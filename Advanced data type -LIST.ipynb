{
 "cells": [
  {
   "cell_type": "markdown",
   "id": "15b5b5e0-2c97-4a35-9b61-fef578ea3185",
   "metadata": {},
   "source": [
    "### Python Lists"
   ]
  },
  {
   "cell_type": "markdown",
   "id": "a6fa8e47-b119-42b8-9df0-3a242dd404ad",
   "metadata": {},
   "source": [
    "\n",
    "Lists are used to store multiple items in a single variable.\n",
    "\n",
    "Lists are one of 4 built-in data types in Python used to store collections of data, the other 3 are Tuple, Set, and Dictionary, all with different qualities and usage.\n",
    "\n",
    "Lists are created using square brackets\n",
    "\n",
    "List items are ordered, changeable, and allow duplicate values.\n",
    "\n",
    "List items are indexed, the first item has index [0], the second item has index [1] etc."
   ]
  },
  {
   "cell_type": "markdown",
   "id": "344a6df1-19f0-4c32-94d1-7b814d38333a",
   "metadata": {},
   "source": [
    "#### Creation of list"
   ]
  },
  {
   "cell_type": "code",
   "execution_count": 6,
   "id": "2019e3da-994c-45cd-b93d-452eef2ebaa1",
   "metadata": {},
   "outputs": [
    {
     "name": "stdout",
     "output_type": "stream",
     "text": [
      "<class 'list'>\n"
     ]
    }
   ],
   "source": [
    "list1 = [\"abc\", 34, True, 40, \"male\"]\n",
    "print(type(list1))"
   ]
  },
  {
   "cell_type": "markdown",
   "id": "3d97c89a-4b0d-4bfe-81fd-2b66dacb192a",
   "metadata": {},
   "source": [
    "#### Access list Elements"
   ]
  },
  {
   "cell_type": "markdown",
   "id": "bb1339cb-b00d-4115-85f1-0e9653ee1d78",
   "metadata": {},
   "source": [
    "In Python, Lists are orderd and each item in a list is associated with a number. The number is known as a list index."
   ]
  },
  {
   "cell_type": "code",
   "execution_count": 9,
   "id": "12566831-d678-475f-bb34-bb26992901c6",
   "metadata": {},
   "outputs": [
    {
     "name": "stdout",
     "output_type": "stream",
     "text": [
      "Swift\n",
      "C\n"
     ]
    }
   ],
   "source": [
    "# Positive indexing\n",
    "language = [\"Python\", \"Swift\", \"C++\", \"C\"]\n",
    "print(language[1])\n",
    "print(language[3])\n"
   ]
  },
  {
   "cell_type": "code",
   "execution_count": 13,
   "id": "974b2098-a4d8-47af-8643-8a23653f6cad",
   "metadata": {},
   "outputs": [
    {
     "name": "stdout",
     "output_type": "stream",
     "text": [
      "996\n",
      "26\n"
     ]
    }
   ],
   "source": [
    "# Negitive indexing\n",
    "numbers = [51,45,26,34,45,996]\n",
    "print(numbers[-1])\n",
    "print(numbers[-4])"
   ]
  },
  {
   "cell_type": "markdown",
   "id": "fa410adb-8a35-4ed7-b2a5-8e213a4f778a",
   "metadata": {},
   "source": [
    "#### Slicing of a List\n",
    "\r\n",
    "Consider a Python list, in order to access a range of elements in a list, you need to slice a list. One way to do this is to use the simple slicing operator i.e. colon(:).\r\n",
    "\r\n",
    "In Python, it is possible to access a portion of a list using the slicing Operator:"
   ]
  },
  {
   "cell_type": "code",
   "execution_count": 20,
   "id": "e45066d2-07d2-4d49-bccf-daa9bf05c437",
   "metadata": {},
   "outputs": [
    {
     "name": "stdout",
     "output_type": "stream",
     "text": [
      "['h']\n",
      "['l', 'm', 'n', 'o', 'p']\n",
      "['a', 'b', 'c', 'd']\n",
      "['a', 'b', 'c', 'd', 'e', 'f', 'g', 'H', 'h', 'i', 'j', 'k', 'l', 'm', 'n', 'o', 'p', 'q']\n",
      "['j']\n"
     ]
    }
   ],
   "source": [
    "my_list = ['a','b','c','d','e','f','g','H','h','i','j','k','l','m','n','o','p','q']\n",
    "print(my_list[8:9])\n",
    "print(my_list[12:-1])\n",
    "print(my_list[:4])\n",
    "print(my_list[:])\n",
    "print(my_list[-8:-7])"
   ]
  },
  {
   "cell_type": "markdown",
   "id": "e7943de8-333d-4622-8280-6cb7dc6583e6",
   "metadata": {},
   "source": [
    "#### List Operations\n",
    "List Contain Two types of Operations.\n",
    "\n",
    "1.Concatenation\n",
    "\n"
   ]
  },
  {
   "cell_type": "code",
   "execution_count": 26,
   "id": "0705b944-2aed-4cfb-b3f9-1ddab0a51140",
   "metadata": {},
   "outputs": [
    {
     "name": "stdout",
     "output_type": "stream",
     "text": [
      "[1, 2, 3, 4, 5, 6, 7, 8, 9]\n"
     ]
    }
   ],
   "source": [
    "# Adding Two lists \n",
    "a = [1,2,3]\n",
    "b = [4,5,6,7,8,9]\n",
    "c = a + b\n",
    "print(c)\n"
   ]
  },
  {
   "cell_type": "markdown",
   "id": "7b6aa6f9-9b6c-48c2-b005-02245cf104fb",
   "metadata": {},
   "source": [
    "#### Repetition"
   ]
  },
  {
   "cell_type": "code",
   "execution_count": 31,
   "id": "10a1058e-c452-470b-a9a3-9bfbbb69fa33",
   "metadata": {},
   "outputs": [
    {
     "name": "stdout",
     "output_type": "stream",
     "text": [
      "[102, 4, 51, 235, 283, 102, 4, 51, 235, 283, 102, 4, 51, 235, 283]\n"
     ]
    }
   ],
   "source": [
    "# Repete the values at multiple times\n",
    "a = [102,4,51,235,283]\n",
    "b = a * 3\n",
    "print(b)"
   ]
  },
  {
   "cell_type": "markdown",
   "id": "26a11d4b-26ef-4a1d-9071-b61b23bfd277",
   "metadata": {},
   "source": [
    "#### Change List items\n",
    "To change the values of a specific item, refer to the index number."
   ]
  },
  {
   "cell_type": "code",
   "execution_count": 34,
   "id": "44929c53-deb4-4156-a54d-f7e4d3d02efe",
   "metadata": {},
   "outputs": [
    {
     "name": "stdout",
     "output_type": "stream",
     "text": [
      "['goa', 'shmila', 'hyderabad']\n",
      "['Water melon', 'shmila', 'hyderabad']\n"
     ]
    }
   ],
   "source": [
    "list = [\"goa\", \"shmila\", \"hyderabad\"]\n",
    "print(list)\n",
    "list[0] = \"Water melon\"\n",
    "print(list)"
   ]
  },
  {
   "cell_type": "markdown",
   "id": "2f3af257-36a0-432e-bc3a-1ea4c49ec506",
   "metadata": {},
   "source": [
    "#### Change a Range of item Values\n",
    "To Change the values of items within a specific range, define a list with the new values, and refer to the range of index numbers where you want to insert the new vales."
   ]
  },
  {
   "cell_type": "code",
   "execution_count": 41,
   "id": "06e0d8bb-8cce-4f74-8256-f57d61440ce0",
   "metadata": {},
   "outputs": [
    {
     "name": "stdout",
     "output_type": "stream",
     "text": [
      "['goa', 'shmila', 'blackcurrant', 'watermelon', 'cherry']\n"
     ]
    }
   ],
   "source": [
    "places_fruits= [\"goa\", \"shmila\", \"hyderabad\"]\n",
    "places_fruits[2:4] = [\"blackcurrant\", \"watermelon\",\"cherry\"]\n",
    "print(places_fruits)"
   ]
  },
  {
   "cell_type": "markdown",
   "id": "1b83c654-434e-4c08-83b7-eccdca2e0fc9",
   "metadata": {},
   "source": [
    "### List Methods\n",
    "Python has a set of built-in methods that you can use on list.\n",
    "\n",
    "\n",
    "\n",
    "1.append() Adds an element at the end of the list\n",
    "\n",
    "2.extend() Add the elements of a list to the end of the current list\n",
    "\n",
    "3.insert() Adds an element at the specified position\n",
    "\n",
    "4.remove() Removes the item with the specified value\n",
    "\n",
    "5.pop() Remove the element at the specified position\n",
    "\n",
    "6.index() Returns the index of the first element with the specified value\n",
    "\n",
    "7.count() Returns the numbetr of elements with the specified value\n",
    "\n",
    "8.sort() It can sort the list in ascending order\n",
    "\n",
    "9.reverse() Reverse the order of element in the list"
   ]
  },
  {
   "cell_type": "markdown",
   "id": "222f3c6b-51cc-4614-b96a-6fd1f04827a0",
   "metadata": {},
   "source": [
    "#### 1. append( ):\n",
    "To add an item to the end of the list, use the append() method:"
   ]
  },
  {
   "cell_type": "code",
   "execution_count": 47,
   "id": "cdd5cb6a-17c1-4199-b81d-d6aacb93adef",
   "metadata": {},
   "outputs": [
    {
     "name": "stdout",
     "output_type": "stream",
     "text": [
      "['Python 2', 'Python 3', 'Python 3.11']\n"
     ]
    }
   ],
   "source": [
    "python_versions = [\"Python 2\", \"Python 3\"]\n",
    "python_versions.append(\"Python 3.11\")\n",
    "\n",
    "print(python_versions)"
   ]
  },
  {
   "cell_type": "markdown",
   "id": "593984ec-b53d-4e95-b70d-9cb142974f6c",
   "metadata": {},
   "source": [
    "#### 2. extend( ):\n",
    "To append elements from another list to the current list, use the extend() method"
   ]
  },
  {
   "cell_type": "code",
   "execution_count": 50,
   "id": "6f4277ca-d694-4f40-ae6b-b9d18f0b53f8",
   "metadata": {},
   "outputs": [
    {
     "name": "stdout",
     "output_type": "stream",
     "text": [
      "['NumPy', 'Pandas', 'Matplotlib', 'scikit-learn']\n"
     ]
    }
   ],
   "source": [
    "python_modules = [\"NumPy\", \"Pandas\"]\n",
    "\n",
    "additional_modules = [\"Matplotlib\", \"scikit-learn\"]\n",
    "python_modules.extend(additional_modules)\n",
    "\n",
    "print(python_modules)"
   ]
  },
  {
   "cell_type": "markdown",
   "id": "b61faa88-3a41-496b-9823-0b4c9457e3e1",
   "metadata": {},
   "source": [
    "#### 3. insert( ):\n",
    "To insert a list item at a specified index or position, use the insert() method."
   ]
  },
  {
   "cell_type": "code",
   "execution_count": 55,
   "id": "eb41e7ed-418e-415a-86a3-e56132ce4c90",
   "metadata": {},
   "outputs": [
    {
     "name": "stdout",
     "output_type": "stream",
     "text": [
      "['C', 'C++', 'Java', 'Python', 'Ruby']\n"
     ]
    }
   ],
   "source": [
    "programming_languages = [\"C\", \"Java\", \"Python\", \"Ruby\"]\n",
    "programming_languages.insert(1, \"C++\")  # 1 is index and c++ is item\n",
    "\n",
    "print(programming_languages)"
   ]
  },
  {
   "cell_type": "markdown",
   "id": "df948f27-80d2-4331-bb9f-9006be9a8f4d",
   "metadata": {},
   "source": [
    "#### 4. remove( ):\n",
    "Removes the first occurance of a value, The remove() method removes the specified item."
   ]
  },
  {
   "cell_type": "code",
   "execution_count": 60,
   "id": "2d1c7820-c8d9-4588-80d7-bc33ec7fc6ff",
   "metadata": {},
   "outputs": [
    {
     "name": "stdout",
     "output_type": "stream",
     "text": [
      "['Django', 'Pyramid', 'Flask']\n"
     ]
    }
   ],
   "source": [
    "frameworks = [\"Django\", \"Flask\", \"Pyramid\", \"Flask\"]\n",
    "frameworks.remove(\"Flask\")\n",
    "print(frameworks)"
   ]
  },
  {
   "cell_type": "markdown",
   "id": "2ddf69fb-98b2-496c-83e5-6d2ac836bf38",
   "metadata": {},
   "source": [
    "#### 5. pop( ):\n",
    "The pop() method removes the specified index, Removes and returns an elements at a specified index."
   ]
  },
  {
   "cell_type": "code",
   "execution_count": 63,
   "id": "3d62ff2d-4ef8-4868-bbed-36eecda488a6",
   "metadata": {},
   "outputs": [
    {
     "name": "stdout",
     "output_type": "stream",
     "text": [
      "['Django', 'Flask', 'FastAPI']\n"
     ]
    }
   ],
   "source": [
    "web_frameworks = [\"Django\", \"Flask\", \"Pyramid\", \"FastAPI\"]\n",
    "removed_framework = web_frameworks.pop(2)\n",
    "\n",
    "print(web_frameworks)"
   ]
  },
  {
   "cell_type": "code",
   "execution_count": 69,
   "id": "7ae3c6f4-3759-4e13-810b-e86019ff3f7c",
   "metadata": {},
   "outputs": [
    {
     "name": "stdout",
     "output_type": "stream",
     "text": [
      "['Django', 'Flask', 'Pyramid']\n"
     ]
    }
   ],
   "source": [
    " # incase of empty pop last element will be removed\n",
    "\n",
    "web_frameworks = [\"Django\", \"Flask\", \"Pyramid\", \"FastAPI\"]\n",
    "removed_framework = web_frameworks.pop()   \n",
    "\n",
    "print(web_frameworks)"
   ]
  },
  {
   "cell_type": "markdown",
   "id": "e2a1cede-98fc-4131-b728-75e5833b8f52",
   "metadata": {},
   "source": [
    "#### 6. index( ):\n",
    "Returns the index of the first occurance of a value"
   ]
  },
  {
   "cell_type": "code",
   "execution_count": 72,
   "id": "fa94f5d2-7ef9-4fea-a671-eb143cd3e1fa",
   "metadata": {},
   "outputs": [
    {
     "name": "stdout",
     "output_type": "stream",
     "text": [
      "2\n"
     ]
    }
   ],
   "source": [
    "languages = [\"C\", \"C++\", \"Python\", \"Java\", \"Python\"]\n",
    "python_index = languages.index(\"Python\")\n",
    "\n",
    "print(python_index)"
   ]
  },
  {
   "cell_type": "markdown",
   "id": "653df932-e726-4ecd-a0e1-dbb543254b3d",
   "metadata": {},
   "source": [
    "#### 7. count( ):\n",
    "Returns the number of occurances of a value."
   ]
  },
  {
   "cell_type": "code",
   "execution_count": 75,
   "id": "3a700952-cf82-409a-a36e-e78f466dd15c",
   "metadata": {},
   "outputs": [
    {
     "name": "stdout",
     "output_type": "stream",
     "text": [
      "9\n"
     ]
    }
   ],
   "source": [
    "version_numbers = [2, 3, 3, 3, 3, 3, 3, 3, 3, 3]\n",
    "python3_count = version_numbers.count(3)\n",
    "\n",
    "print(python3_count)"
   ]
  },
  {
   "cell_type": "markdown",
   "id": "56b708a4-85a7-4275-9349-46b750361de2",
   "metadata": {},
   "source": [
    "#### 8. sort( ):\n",
    "Sorts the list in a ascending order"
   ]
  },
  {
   "cell_type": "code",
   "execution_count": 80,
   "id": "1cfa0eac-82c2-4961-b1d4-e67c37db29c0",
   "metadata": {},
   "outputs": [
    {
     "name": "stdout",
     "output_type": "stream",
     "text": [
      "[2.7, 3.0, 3.6, 3.7, 3.8, 3.9, 12, 23, 24, 34, 45, 65, 343, 7325]\n"
     ]
    }
   ],
   "source": [
    "numbers = [45,23,12,24,65,7325,343,34,2.7, 3.0, 3.6, 3.7, 3.8, 3.9]\n",
    "numbers.sort()\n",
    "print(numbers)"
   ]
  },
  {
   "cell_type": "markdown",
   "id": "b482c5fa-2669-48e8-ae07-e46d7164164f",
   "metadata": {},
   "source": [
    "#### 9. reverse( ):\n",
    "Reverses the order of elements in the list"
   ]
  },
  {
   "cell_type": "code",
   "execution_count": 83,
   "id": "9ca126ad-bbe3-4812-9137-d7f766139a42",
   "metadata": {},
   "outputs": [
    {
     "name": "stdout",
     "output_type": "stream",
     "text": [
      "[3.9, 3.8, 3.7, 3.6, 3.0, 2.7, 34, 343, 7325, 65, 24, 12, 23, 45]\n"
     ]
    }
   ],
   "source": [
    "numbers = [45,23,12,24,65,7325,343,34,2.7, 3.0, 3.6, 3.7, 3.8, 3.9]\n",
    "numbers.reverse()\n",
    "print(numbers)"
   ]
  },
  {
   "cell_type": "markdown",
   "id": "b8d317ab-28c8-4760-ac0b-93b071586a43",
   "metadata": {},
   "source": [
    "#### Some other methods in List"
   ]
  },
  {
   "cell_type": "markdown",
   "id": "40b9a5c9-ce41-4daf-b5ed-a9d56f20da45",
   "metadata": {},
   "source": [
    "#### min() \n",
    "gives minimum value"
   ]
  },
  {
   "cell_type": "code",
   "execution_count": 92,
   "id": "125172ad-c73e-4373-bdf2-341e78526c34",
   "metadata": {},
   "outputs": [
    {
     "name": "stdout",
     "output_type": "stream",
     "text": [
      "2\n"
     ]
    }
   ],
   "source": [
    "x = min(5,2,96,36, 10)\n",
    "\n",
    "print(x)\n"
   ]
  },
  {
   "cell_type": "markdown",
   "id": "50165fb2-480a-4dc9-8c11-855c4bb58213",
   "metadata": {},
   "source": [
    "#### max()\n",
    "gives maximum value"
   ]
  },
  {
   "cell_type": "code",
   "execution_count": 94,
   "id": "a1302d4a-f724-467b-9393-3badcfdee32e",
   "metadata": {},
   "outputs": [
    {
     "name": "stdout",
     "output_type": "stream",
     "text": [
      "96\n"
     ]
    }
   ],
   "source": [
    "x = max(5,2,96,36, 10)\n",
    "\n",
    "print(x)\n"
   ]
  },
  {
   "cell_type": "markdown",
   "id": "162d9976-70c7-4147-b1af-43c2aa374b0d",
   "metadata": {},
   "source": [
    "#### copy()\n",
    "copies the list"
   ]
  },
  {
   "cell_type": "code",
   "execution_count": 99,
   "id": "693b256a-a4be-479e-b08e-6a0c8294b442",
   "metadata": {},
   "outputs": [
    {
     "name": "stdout",
     "output_type": "stream",
     "text": [
      "['apple', 'banana', 'cherry', 'orange']\n"
     ]
    }
   ],
   "source": [
    "fruits = ['apple', 'banana', 'cherry', 'orange']\n",
    "\n",
    "x = fruits.copy()\n",
    "print(x)"
   ]
  },
  {
   "cell_type": "markdown",
   "id": "f1ad693a-e404-424e-a48b-be39f5dfa78c",
   "metadata": {},
   "source": [
    "#### len()\n",
    "gives the length of the list"
   ]
  },
  {
   "cell_type": "code",
   "execution_count": 104,
   "id": "4b6f5ec9-d5cf-4f98-8501-f36706e6184b",
   "metadata": {},
   "outputs": [
    {
     "name": "stdout",
     "output_type": "stream",
     "text": [
      "4\n"
     ]
    }
   ],
   "source": [
    "fruits = ['apple', 'banana', 'cherry', 'orange']\n",
    "\n",
    "x = len(fruits)\n",
    "print(x)"
   ]
  },
  {
   "cell_type": "markdown",
   "id": "14fd23c7-2cad-4568-9a01-bcde6a676b9c",
   "metadata": {},
   "source": [
    "\n",
    "#### clear( ):\n",
    "The clear( ) method empties the list. The list still remains, but it has no content.\n",
    "\n"
   ]
  },
  {
   "cell_type": "code",
   "execution_count": 107,
   "id": "a35227f5-5096-483b-ad0b-c727da885406",
   "metadata": {},
   "outputs": [
    {
     "name": "stdout",
     "output_type": "stream",
     "text": [
      "[]\n"
     ]
    }
   ],
   "source": [
    "fruits = [\"apple\", \"banana\", \"cherry\"]\n",
    "fruits.clear()\n",
    "print(fruits)"
   ]
  }
 ],
 "metadata": {
  "kernelspec": {
   "display_name": "Python 3 (ipykernel)",
   "language": "python",
   "name": "python3"
  },
  "language_info": {
   "codemirror_mode": {
    "name": "ipython",
    "version": 3
   },
   "file_extension": ".py",
   "mimetype": "text/x-python",
   "name": "python",
   "nbconvert_exporter": "python",
   "pygments_lexer": "ipython3",
   "version": "3.12.4"
  }
 },
 "nbformat": 4,
 "nbformat_minor": 5
}
