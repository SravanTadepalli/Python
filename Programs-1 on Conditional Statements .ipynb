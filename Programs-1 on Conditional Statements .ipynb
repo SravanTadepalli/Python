{
 "cells": [
  {
   "cell_type": "code",
   "execution_count": 49,
   "id": "460189b9-dce9-48bd-b98b-f22692c52524",
   "metadata": {},
   "outputs": [
    {
     "name": "stdin",
     "output_type": "stream",
     "text": [
      "Enter the order: kaju\n"
     ]
    }
   ],
   "source": [
    "order=input(\"Enter the order:\")"
   ]
  },
  {
   "cell_type": "code",
   "execution_count": 51,
   "id": "c602dafc-ad66-45a8-8e6c-1e3d3132f8e8",
   "metadata": {},
   "outputs": [
    {
     "name": "stdout",
     "output_type": "stream",
     "text": [
      "kaju your order is taken\n"
     ]
    }
   ],
   "source": [
    "non_veg= [\"chicken\",\"mutton\",\"fish\",\"prawns\"]\n",
    "veg= [\"panner\",\"kaju\",\"tamato\",\"potato\"]\n",
    "if order in non_veg:\n",
    "    print(order,\"Your order is taken\")\n",
    "elif order in veg:\n",
    "    print(order,\"your order is taken\")\n",
    "else:\n",
    "    print(\"sorry\")"
   ]
  },
  {
   "cell_type": "code",
   "execution_count": 1,
   "id": "b18b1f57-ffb2-4f61-afee-f8ae364b735e",
   "metadata": {},
   "outputs": [
    {
     "name": "stdin",
     "output_type": "stream",
     "text": [
      "no. of slides: 5\n"
     ]
    },
    {
     "name": "stdout",
     "output_type": "stream",
     "text": [
      "pentagone has 5 slide\n"
     ]
    }
   ],
   "source": [
    "slides=int(input(\"no. of slides:\"))\n",
    "if slides==1:\n",
    "    print(\"line has 1 slide\")\n",
    "elif slides==2:\n",
    "    print (\"circle has 2 slide\")\n",
    "elif slides==3:\n",
    "    print (\"triangle has 3 slide\")\n",
    "elif slides==4:\n",
    "    print (\"square has 4 slide\")\n",
    "elif slides==5:\n",
    "    print (\"pentagone has 5 slide\")\n",
    "elif slides==6:\n",
    "    print (\"hexagone has 6 slide\")\n",
    "elif slides==7:\n",
    "    print (\"septagone has 7 slide\")\n",
    "elif slides==8:\n",
    "    print (\"octagone has 8 slide\")\n",
    "elif slides==9:\n",
    "    print (\"nanogone has 9 slide\")\n",
    "elif slides==10:\n",
    "    print (\"decogone has 10 slide\")\n",
    "else :\n",
    " print(\"sorry\")"
   ]
  },
  {
   "cell_type": "code",
   "execution_count": 87,
   "id": "151d94e7-5d70-48a8-ad10-1ba92add1587",
   "metadata": {},
   "outputs": [
    {
     "name": "stdin",
     "output_type": "stream",
     "text": [
      "enter month: may\n"
     ]
    },
    {
     "name": "stdout",
     "output_type": "stream",
     "text": [
      "May has 31 days\n"
     ]
    }
   ],
   "source": [
    "m=input(\"Enter month:\")\n",
    "month=m.capitalize()      \n",
    "d = [\"January\",\"March\",\"May\",\"July\",\"August\",\"October\",\"December\"]\n",
    "B= [\"April\",\"June\",\"September\",\"November\"]\n",
    "C= [\"Febuary\"]\n",
    "\n",
    "if month in d:\n",
    "    print(month,\"has 31 days\")\n",
    "elif month in B:\n",
    "    print(month,\"has 30 days\")\n",
    "elif month in C:\n",
    "    print(month,\"has 28 days\")\n",
    "else:\n",
    "    print(month,\" is invalid\")"
   ]
  },
  {
   "cell_type": "code",
   "execution_count": 77,
   "id": "8c3770ca-32ff-498f-aa71-cde4835598a5",
   "metadata": {},
   "outputs": [
    {
     "name": "stdin",
     "output_type": "stream",
     "text": [
      "Enter the year: 2004\n"
     ]
    },
    {
     "name": "stdout",
     "output_type": "stream",
     "text": [
      "2004 is Leap Year\n"
     ]
    }
   ],
   "source": [
    "#leap year or not\n",
    "year=int(input(\"Enter the year:\"))\n",
    "if (year%400 == 0) or (year%4==0 and year%100!=0):\n",
    "    print(year,\"is Leap Year\")\n",
    "else:\n",
    "    print(year,\"is Not a Leap Year\")"
   ]
  },
  {
   "cell_type": "code",
   "execution_count": 125,
   "id": "c772dddf-4bf5-43af-97e9-2c617ec9cfc3",
   "metadata": {},
   "outputs": [
    {
     "name": "stdin",
     "output_type": "stream",
     "text": [
      "Enter 3 numbers: 852\n"
     ]
    },
    {
     "name": "stdout",
     "output_type": "stream",
     "text": [
      "8\n"
     ]
    }
   ],
   "source": [
    "#max of 3 digits\n",
    "\n",
    "n=input(\"Enter 3 digits:\")\n",
    "x=list(n)\n",
    "m=max(x)\n",
    "print(m)"
   ]
  },
  {
   "cell_type": "code",
   "execution_count": 5,
   "id": "55506315-184e-43a8-8add-5810d4c28bdb",
   "metadata": {},
   "outputs": [
    {
     "name": "stdin",
     "output_type": "stream",
     "text": [
      "Enter first number:  85.2\n",
      "Enter second number:  45.23\n",
      "Enter third number:  10.0\n"
     ]
    },
    {
     "name": "stdout",
     "output_type": "stream",
     "text": [
      "The largest number is 85.2\n"
     ]
    }
   ],
   "source": [
    "#max of 3 digits\n",
    "a=input(\"Enter first number: \")\n",
    "b=input(\"Enter second number: \")\n",
    "c=input(\"Enter third number: \")\n",
    "\n",
    "if (a >= b) and (a >= c):\n",
    "   largest = a\n",
    "elif (b >= a) and (b >= c):\n",
    "   largest = b\n",
    "else:\n",
    "   largest = c                 \n",
    "print(\"The largest number is\", largest)"
   ]
  },
  {
   "cell_type": "code",
   "execution_count": 173,
   "id": "edded4f3-7c03-4e4a-aace-dd599d0b2fee",
   "metadata": {},
   "outputs": [
    {
     "name": "stdin",
     "output_type": "stream",
     "text": [
      "Enter the colour: green\n"
     ]
    },
    {
     "name": "stdout",
     "output_type": "stream",
     "text": [
      "Green :GOOO....!\n"
     ]
    }
   ],
   "source": [
    "#traffic signals\n",
    "\n",
    "m=input(\"Enter the colour:\")\n",
    "c=m.capitalize()\n",
    "if c==\"Red\":\n",
    "    print(c,\":STOP...!\")\n",
    "elif c==\"Yellow\":\n",
    "    print(c,\":Get READY...!\")\n",
    "elif c==\"Green\":\n",
    "    print(c,\":GOOO....!\")\n",
    "else:\n",
    "    print(c,\"invalid colour\")"
   ]
  },
  {
   "cell_type": "code",
   "execution_count": 189,
   "id": "2943938e-d8fd-4612-934e-c39f58107b64",
   "metadata": {},
   "outputs": [
    {
     "name": "stdin",
     "output_type": "stream",
     "text": [
      "Enter the Alphabet: P\n"
     ]
    },
    {
     "name": "stdout",
     "output_type": "stream",
     "text": [
      "Your Alphabet: p is a consonant.\n"
     ]
    }
   ],
   "source": [
    "#vowels and consonants\n",
    "x=input(\"Enter the Alphabet:\")\n",
    "m=x.lower()\n",
    "vowels=[\"a\",\"e\",\"i\",\"o\",\"u\"]\n",
    "consonants=['b', 'c', 'd', 'f', 'g', 'h', 'j', 'k', 'l''m', 'n', 'p', 'q', 'r', 's', 't', 'v', 'w', 'x', 'y', 'z']\n",
    "if m in vowels:\n",
    "    print(\"Your Alphabet:\",m,\"is a vowel.\")\n",
    "elif m in consonants:\n",
    "     print(\"Your Alphabet:\",m,\"is a consonant.\")\n",
    "else :\n",
    "    print(m,\"Invalid.\")"
   ]
  },
  {
   "cell_type": "code",
   "execution_count": 193,
   "id": "0cd2f1e0-7ad2-4af4-9f28-7cf426a73d6d",
   "metadata": {},
   "outputs": [
    {
     "name": "stdin",
     "output_type": "stream",
     "text": [
      "Enter a String: Namaste\n"
     ]
    },
    {
     "name": "stdout",
     "output_type": "stream",
     "text": [
      "etsamaN\n"
     ]
    }
   ],
   "source": [
    "#reverse of a string\n",
    "x=input(\"Enter a String:\")\n",
    "print(x[::-1])"
   ]
  },
  {
   "cell_type": "code",
   "execution_count": 235,
   "id": "ba4271b9-83a9-439b-bb28-48703d1fc544",
   "metadata": {},
   "outputs": [
    {
     "name": "stdin",
     "output_type": "stream",
     "text": [
      " 452369\n"
     ]
    },
    {
     "name": "stdout",
     "output_type": "stream",
     "text": [
      "{'4', '5', '3', '9', '2', '6'}\n"
     ]
    }
   ],
   "source": [
    "#remove duplicates \n",
    "k=input()\n",
    "print(set(k))\n"
   ]
  },
  {
   "cell_type": "markdown",
   "id": "bab6da11-e48d-42b7-abc4-0569996cbeec",
   "metadata": {},
   "source": [
    "### taking list as dynamic input"
   ]
  },
  {
   "cell_type": "code",
   "execution_count": 259,
   "id": "db7fab6f-b62e-47b2-b3b8-fd3807a12b54",
   "metadata": {},
   "outputs": [
    {
     "name": "stdin",
     "output_type": "stream",
     "text": [
      "Enter numbers separated by commas:  14,45,89,66,33,44\n"
     ]
    },
    {
     "name": "stdout",
     "output_type": "stream",
     "text": [
      "Your list: [14, 45, 89, 66, 33, 44]\n"
     ]
    }
   ],
   "source": [
    "#taking list as input\n",
    "# Taking a comma-separated input and converting it to a list of integers\n",
    "user_input = input(\"Enter numbers separated by commas: \")\n",
    "i = [int(x) for x in user_input.split(',')]\n",
    "\n",
    "print(\"Your list:\",i)"
   ]
  },
  {
   "cell_type": "code",
   "execution_count": 1,
   "id": "01b7556a-ba38-4a4b-b187-32a2f927433d",
   "metadata": {},
   "outputs": [
    {
     "name": "stdin",
     "output_type": "stream",
     "text": [
      "Enter the number of strings:  4\n",
      "Enter a string:  sofa\n",
      "Enter a string:  car\n",
      "Enter a string:  4\n",
      "Enter a string:  bench\n"
     ]
    },
    {
     "data": {
      "text/plain": [
       "['sofa', 'car', '4', 'bench']"
      ]
     },
     "execution_count": 1,
     "metadata": {},
     "output_type": "execute_result"
    }
   ],
   "source": [
    "# Get the number of strings from the user\n",
    "num_strings = int(input(\"Enter the number of strings: \"))\n",
    "\n",
    "# Read strings from the user\n",
    "elements = []\n",
    "for _ in range(num_strings):\n",
    "    user_input = input(\"Enter a string: \")\n",
    "    elements.append(user_input)\n",
    "elements"
   ]
  },
  {
   "cell_type": "code",
   "execution_count": 31,
   "id": "180bcc33-51fe-4d66-8e81-8d84a5499a22",
   "metadata": {},
   "outputs": [
    {
     "name": "stdin",
     "output_type": "stream",
     "text": [
      "Enter numbers separated by commas:  1,2,3,4,5,6,3,2,8,1,5,6,9,8,7,4,7\n"
     ]
    },
    {
     "name": "stdout",
     "output_type": "stream",
     "text": [
      "Your list: [1, 2, 3, 4, 5, 6, 3, 2, 8, 1, 5, 6, 9, 8, 7, 4, 7]\n",
      "Your list after removing the duplicates : [1, 2, 3, 4, 5, 6, 7, 8, 9]\n"
     ]
    }
   ],
   "source": [
    "#removing duplicates in a list\n",
    "u = input(\"Enter numbers separated by commas: \")\n",
    "i = [int(x) for x in u.split(',')]\n",
    "print(\"Your list:\",i)\n",
    "\n",
    "p=set(i)\n",
    "d=list(p)\n",
    "print(\"Your list after removing the duplicates :\",d)"
   ]
  },
  {
   "cell_type": "code",
   "execution_count": 29,
   "id": "fbce18ad-6dc4-4345-be32-4e1d7f4c26db",
   "metadata": {},
   "outputs": [
    {
     "name": "stdin",
     "output_type": "stream",
     "text": [
      "Enter the first number: a 8\n",
      "Enter the second number: b 12\n"
     ]
    },
    {
     "name": "stdout",
     "output_type": "stream",
     "text": [
      "After Swapping: a: 12 b: 8\n"
     ]
    }
   ],
   "source": [
    "#swapping of two numbers without 3rd variable\n",
    "x=int(input(\"Enter the first number: a\"))\n",
    "y=int(input(\"Enter the second number: b\"))\n",
    "x,y=y,x\n",
    "print(\"After Swapping:\",\"a:\",x,\"b:\",y)"
   ]
  },
  {
   "cell_type": "code",
   "execution_count": null,
   "id": "47660299-a08a-4b9f-b006-69add4573e21",
   "metadata": {},
   "outputs": [],
   "source": []
  }
 ],
 "metadata": {
  "kernelspec": {
   "display_name": "Python 3 (ipykernel)",
   "language": "python",
   "name": "python3"
  },
  "language_info": {
   "codemirror_mode": {
    "name": "ipython",
    "version": 3
   },
   "file_extension": ".py",
   "mimetype": "text/x-python",
   "name": "python",
   "nbconvert_exporter": "python",
   "pygments_lexer": "ipython3",
   "version": "3.12.4"
  }
 },
 "nbformat": 4,
 "nbformat_minor": 5
}
