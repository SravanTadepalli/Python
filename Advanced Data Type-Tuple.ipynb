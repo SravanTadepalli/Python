{
 "cells": [
  {
   "cell_type": "markdown",
   "id": "a8e64da3-64de-4546-9b5f-2c979d90d41e",
   "metadata": {},
   "source": [
    "### Python Tuple"
   ]
  },
  {
   "cell_type": "markdown",
   "id": "cd74c1fd-8e9f-48e9-b497-7ce037812140",
   "metadata": {},
   "source": [
    "A Python tuple is one of Python’s three built-in sequence data types, the others being lists and range objects. A Python tuple shares a lot of properties with the more commonly known Python list\n",
    "\n",
    "A tuple is immutable; it can not be changed once you have defined it.\n",
    "\n",
    "A tuple is defined using optional parentheses () instead of square brackets[]ry"
   ]
  },
  {
   "cell_type": "markdown",
   "id": "b5b802fc-07e0-4ffc-aef4-626fbb3cc17b",
   "metadata": {},
   "source": [
    "#### Tuple creation"
   ]
  },
  {
   "cell_type": "code",
   "execution_count": 18,
   "id": "017adeed-3360-4c0c-bcb0-e648d8b31b1e",
   "metadata": {},
   "outputs": [
    {
     "name": "stdout",
     "output_type": "stream",
     "text": [
      "('hero', 51, True, 9.5)\n",
      "<class 'tuple'>\n"
     ]
    }
   ],
   "source": [
    "tuple = (\"hero\",51,True,9.5)\n",
    "print(tuple)\n",
    "print(type(tuple))"
   ]
  },
  {
   "cell_type": "markdown",
   "id": "0cb99bd5-1f99-43f0-99b4-9c1744593323",
   "metadata": {},
   "source": [
    "#### Access Tuple items\n",
    "We can access tuple items by referring to the index number and inside square brackets.\n",
    "\n",
    "Tuples support indexing and slicing just like a list. Here in this indexing we will have +ve and -ve indexing."
   ]
  },
  {
   "cell_type": "code",
   "execution_count": 23,
   "id": "9b126776-a505-4c52-8739-d150ff10ea38",
   "metadata": {},
   "outputs": [
    {
     "name": "stdout",
     "output_type": "stream",
     "text": [
      "mango\n",
      "apple\n"
     ]
    }
   ],
   "source": [
    "fruits = (\"apple\", \"banana\", \"mango\")\n",
    "print(fruits[-1]) \n",
    "print(fruits[0])  \n"
   ]
  },
  {
   "cell_type": "markdown",
   "id": "b1920cc7-be04-409c-8cd4-33e3f5a23795",
   "metadata": {},
   "source": [
    "#### Slicing of a Tuple\n",
    "We can specify a range of indexes by specifying where to start and where to end the range."
   ]
  },
  {
   "cell_type": "code",
   "execution_count": 28,
   "id": "e9b3f535-24e3-4e57-8293-048a643d5f0a",
   "metadata": {},
   "outputs": [
    {
     "name": "stdout",
     "output_type": "stream",
     "text": [
      "('apple', 'banana')\n"
     ]
    }
   ],
   "source": [
    "fruits = (\"apple\", \"banana\", \"mango\")\n",
    "print(fruits[0:2])"
   ]
  },
  {
   "cell_type": "markdown",
   "id": "8472713c-5741-4f86-a2e2-ad208dc79e95",
   "metadata": {},
   "source": [
    "#### Immutability\n",
    "Once a tuple is created we cannot change its elements or add/remove elements"
   ]
  },
  {
   "cell_type": "code",
   "execution_count": 33,
   "id": "51c5b575-bd03-4509-9966-d30276065dc0",
   "metadata": {},
   "outputs": [
    {
     "ename": "TypeError",
     "evalue": "'tuple' object does not support item assignment",
     "output_type": "error",
     "traceback": [
      "\u001b[1;31m---------------------------------------------------------------------------\u001b[0m",
      "\u001b[1;31mTypeError\u001b[0m                                 Traceback (most recent call last)",
      "Cell \u001b[1;32mIn[33], line 2\u001b[0m\n\u001b[0;32m      1\u001b[0m fruits \u001b[38;5;241m=\u001b[39m (\u001b[38;5;124m\"\u001b[39m\u001b[38;5;124mmango\u001b[39m\u001b[38;5;124m\"\u001b[39m,\u001b[38;5;124m\"\u001b[39m\u001b[38;5;124mkiwi\u001b[39m\u001b[38;5;124m\"\u001b[39m,\u001b[38;5;124m\"\u001b[39m\u001b[38;5;124mapple\u001b[39m\u001b[38;5;124m\"\u001b[39m)\n\u001b[1;32m----> 2\u001b[0m fruits[\u001b[38;5;241m1\u001b[39m] \u001b[38;5;241m=\u001b[39m \u001b[38;5;124m\"\u001b[39m\u001b[38;5;124morange\u001b[39m\u001b[38;5;124m\"\u001b[39m\n\u001b[0;32m      3\u001b[0m \u001b[38;5;28mprint\u001b[39m(fruits)\n",
      "\u001b[1;31mTypeError\u001b[0m: 'tuple' object does not support item assignment"
     ]
    }
   ],
   "source": [
    "fruits = (\"mango\",\"kiwi\",\"apple\")\n",
    "fruits[1] = \"orange\"\n",
    "print(fruits)"
   ]
  },
  {
   "cell_type": "markdown",
   "id": "fa73b8f0-1465-4538-9436-7f8470b73849",
   "metadata": {},
   "source": [
    "#### Tuple operations\n",
    "Same as a list we will have operations on tuple also.\n",
    "\n",
    "1.Concatenation\n",
    "\n",
    "2.Repetation"
   ]
  },
  {
   "cell_type": "code",
   "execution_count": 36,
   "id": "755ed665-1df8-4dde-bb0b-dabf0b790de6",
   "metadata": {},
   "outputs": [
    {
     "name": "stdout",
     "output_type": "stream",
     "text": [
      "(1, 2, 3, 13, 42, 402)\n",
      "(23, 4, 34, 6, 527, 23, 4, 34, 6, 527, 23, 4, 34, 6, 527)\n"
     ]
    }
   ],
   "source": [
    "# Example program on Concatenation\n",
    "num1 = (13,42,402)\n",
    "num2 = (1,2,3)\n",
    "print(num2 + num1)\n",
    "\n",
    "# Example program on Repetiton\n",
    "num1 = (23,4,34,6,527)\n",
    "print(num1 * 3)"
   ]
  },
  {
   "cell_type": "markdown",
   "id": "d7d92e0e-482d-44ef-8e6a-c7715cd45fb3",
   "metadata": {},
   "source": [
    "#### Tuple Methods\n",
    "Tuple have limited methods compared to list due to their immutability.\n",
    "\n",
    "It has two built-in methods that we can use on tuples."
   ]
  },
  {
   "cell_type": "markdown",
   "id": "cd10148b-3dd5-4f2a-97dc-1e3d62836f5d",
   "metadata": {},
   "source": [
    "#### count( ):\n",
    "Returns the number of occurances of a specified value\n",
    "\n",
    "The count() method returns the number of times a specified value appears in the tuple."
   ]
  },
  {
   "cell_type": "code",
   "execution_count": 44,
   "id": "b3053394-97d6-4d54-8178-0198d0279509",
   "metadata": {},
   "outputs": [
    {
     "name": "stdout",
     "output_type": "stream",
     "text": [
      "2\n"
     ]
    }
   ],
   "source": [
    "num = (8,3,4,1,4,21,1,24,1)\n",
    "\n",
    "num1 =num.count(4)\n",
    "\n",
    "print(num1)"
   ]
  },
  {
   "cell_type": "markdown",
   "id": "94a57a29-d9be-4c31-ba61-d4870808429e",
   "metadata": {},
   "source": [
    "#### index( ):\n",
    "The index() method finds the first occurrence of the specified value.\n",
    "\n",
    "The index() method raises an exception if the value is not found.\n",
    "\n",
    "Returns the index of the first occurance of a specified value."
   ]
  },
  {
   "cell_type": "code",
   "execution_count": 53,
   "id": "4f6ef53b-df6f-413c-a862-da9b505bf779",
   "metadata": {},
   "outputs": [
    {
     "name": "stdout",
     "output_type": "stream",
     "text": [
      "5\n"
     ]
    }
   ],
   "source": [
    "num = (8,3,4,1,4,21,1,24,1)\n",
    "\n",
    "num1 =num.index(21)\n",
    "\n",
    "print(num1)"
   ]
  },
  {
   "cell_type": "code",
   "execution_count": 59,
   "id": "31be45f6-cf74-48d3-82c8-4f32ad0c621b",
   "metadata": {},
   "outputs": [
    {
     "ename": "ValueError",
     "evalue": "tuple.index(x): x not in tuple",
     "output_type": "error",
     "traceback": [
      "\u001b[1;31m---------------------------------------------------------------------------\u001b[0m",
      "\u001b[1;31mValueError\u001b[0m                                Traceback (most recent call last)",
      "Cell \u001b[1;32mIn[59], line 5\u001b[0m\n\u001b[0;32m      1\u001b[0m \u001b[38;5;66;03m#error occurs \u001b[39;00m\n\u001b[0;32m      3\u001b[0m num \u001b[38;5;241m=\u001b[39m (\u001b[38;5;241m8\u001b[39m,\u001b[38;5;241m3\u001b[39m,\u001b[38;5;241m4\u001b[39m,\u001b[38;5;241m1\u001b[39m,\u001b[38;5;241m4\u001b[39m,\u001b[38;5;241m21\u001b[39m,\u001b[38;5;241m1\u001b[39m,\u001b[38;5;241m24\u001b[39m,\u001b[38;5;241m1\u001b[39m)\n\u001b[1;32m----> 5\u001b[0m num1 \u001b[38;5;241m=\u001b[39mnum\u001b[38;5;241m.\u001b[39mindex(\u001b[38;5;241m6\u001b[39m)\n\u001b[0;32m      7\u001b[0m \u001b[38;5;28mprint\u001b[39m(num1)\n",
      "\u001b[1;31mValueError\u001b[0m: tuple.index(x): x not in tuple"
     ]
    }
   ],
   "source": [
    "#error occurs \n",
    "\n",
    "num = (8,3,4,1,4,21,1,24,1)\n",
    "\n",
    "num1 =num.index(6)\n",
    "\n",
    "print(num1)"
   ]
  }
 ],
 "metadata": {
  "kernelspec": {
   "display_name": "Python 3 (ipykernel)",
   "language": "python",
   "name": "python3"
  },
  "language_info": {
   "codemirror_mode": {
    "name": "ipython",
    "version": 3
   },
   "file_extension": ".py",
   "mimetype": "text/x-python",
   "name": "python",
   "nbconvert_exporter": "python",
   "pygments_lexer": "ipython3",
   "version": "3.12.4"
  }
 },
 "nbformat": 4,
 "nbformat_minor": 5
}
