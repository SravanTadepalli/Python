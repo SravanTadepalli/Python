{
 "cells": [
  {
   "cell_type": "markdown",
   "id": "ada4b342-0f54-489f-a6f7-d8b67ada6ed1",
   "metadata": {},
   "source": [
    "### PYTHON OPERATORS \n"
   ]
  },
  {
   "cell_type": "markdown",
   "id": "3afadb07-b075-48c7-bc92-faaee84a14f0",
   "metadata": {},
   "source": [
    "1. Arithmetic operators\n",
    "2. Assignment operators\n",
    "3. Comparison operators\n",
    "4. Logical operators\n",
    "5. Identity operators\n",
    "6. Membership operators\n",
    "7. Bitwise operators"
   ]
  },
  {
   "cell_type": "markdown",
   "id": "9a09c10a-6d52-4cb0-acc2-919257f9088c",
   "metadata": {},
   "source": [
    "### 1. Arithmetic operators"
   ]
  },
  {
   "cell_type": "markdown",
   "id": "50aed550-8753-4f35-bab6-f9a462749696",
   "metadata": {},
   "source": [
    "Arithmetic operators are used with numeric values to perform common mathematical operations"
   ]
  },
  {
   "cell_type": "markdown",
   "id": "9dd50137-3ffb-4a88-8035-93ba967fa266",
   "metadata": {},
   "source": [
    "##### Addition(+)"
   ]
  },
  {
   "cell_type": "code",
   "execution_count": 11,
   "id": "6d1146a7-db44-4a1d-8a21-83737a4f2f91",
   "metadata": {},
   "outputs": [
    {
     "name": "stdout",
     "output_type": "stream",
     "text": [
      "111\n",
      "127\n",
      "1048\n",
      "-560\n",
      "-1454\n"
     ]
    }
   ],
   "source": [
    "a=69\n",
    "b=42\n",
    "c=85\n",
    "d=963\n",
    "e=-1523\n",
    "ab=a+b\n",
    "bc=b+c\n",
    "cd=c+d\n",
    "de=d+e\n",
    "ea=e+a\n",
    "print(ab)\n",
    "print(bc)\n",
    "print(cd)\n",
    "print(de)\n",
    "print(ea)\n"
   ]
  },
  {
   "cell_type": "markdown",
   "id": "fc7b8e64-51d2-4b6c-b190-30d397269349",
   "metadata": {},
   "source": [
    "#### Subtraction(-)"
   ]
  },
  {
   "cell_type": "code",
   "execution_count": 14,
   "id": "b85437f5-2697-4274-8a93-3a62a96c5ffc",
   "metadata": {},
   "outputs": [
    {
     "name": "stdout",
     "output_type": "stream",
     "text": [
      "-739\n",
      "1786\n",
      "-1003\n",
      "-101\n",
      "57\n"
     ]
    }
   ],
   "source": [
    "a=96\n",
    "b=835\n",
    "c=-951\n",
    "d=52\n",
    "e=153\n",
    "ab=a-b\n",
    "bc=b-c\n",
    "cd=c-d\n",
    "de=d-e\n",
    "ea=e-a\n",
    "print(ab)\n",
    "print(bc)\n",
    "print(cd)\n",
    "print(de)\n",
    "print(ea)"
   ]
  },
  {
   "cell_type": "markdown",
   "id": "628fb9f8-906d-4b23-94ff-943f844ae364",
   "metadata": {},
   "source": [
    "#### Multiplication(*)"
   ]
  },
  {
   "cell_type": "code",
   "execution_count": 19,
   "id": "ab669d2f-e462-47ef-a3a3-034a12c1e84e",
   "metadata": {},
   "outputs": [
    {
     "name": "stdout",
     "output_type": "stream",
     "text": [
      "56088\n",
      "-359784\n",
      "-3700410\n",
      "40161473660\n",
      "1053275322\n"
     ]
    }
   ],
   "source": [
    "a=123\n",
    "b=456\n",
    "c=-789\n",
    "d=4690\n",
    "e=8563214\n",
    "ab=a*b\n",
    "bc=b*c\n",
    "cd=c*d\n",
    "de=d*e\n",
    "ea=e*a\n",
    "print(ab)\n",
    "print(bc)\n",
    "print(cd)\n",
    "print(de)\n",
    "print(ea)"
   ]
  },
  {
   "cell_type": "markdown",
   "id": "dbc8f53b-3d2d-4a17-a315-6008627e1975",
   "metadata": {},
   "source": [
    "#### Division(/)\n",
    "Result returns in Quotient"
   ]
  },
  {
   "cell_type": "code",
   "execution_count": 24,
   "id": "e4890a8e-2028-4e09-bbfe-c598e2655def",
   "metadata": {},
   "outputs": [
    {
     "name": "stdout",
     "output_type": "stream",
     "text": [
      "-0.05316901408450704\n",
      "-0.011494407943553282\n",
      "7.7925777964676195\n",
      "1056.888888888889\n",
      "0.19867549668874174\n"
     ]
    }
   ],
   "source": [
    "a=45.3\n",
    "b=-852\n",
    "c=74123\n",
    "d=9512\n",
    "e=9\n",
    "ab=a/b\n",
    "bc=b/c\n",
    "cd=c/d\n",
    "de=d/e\n",
    "ea=e/a\n",
    "print(ab)\n",
    "print(bc)\n",
    "print(cd)\n",
    "print(de)\n",
    "print(ea)"
   ]
  },
  {
   "cell_type": "markdown",
   "id": "ae18e4a7-3ffc-467a-98cd-b0df3b5c7764",
   "metadata": {},
   "source": [
    "#### Modulus(%)\n",
    "Result returns in Reminder"
   ]
  },
  {
   "cell_type": "code",
   "execution_count": 28,
   "id": "0c618f34-ac0a-4514-9ed0-edc89454c69e",
   "metadata": {},
   "outputs": [
    {
     "name": "stdout",
     "output_type": "stream",
     "text": [
      "45\n",
      "-32.2\n",
      "58.8\n",
      "71\n",
      "0\n"
     ]
    }
   ],
   "source": [
    "a=96\n",
    "b=51\n",
    "c=-83.2\n",
    "d=71\n",
    "e=96\n",
    "ab=a%b\n",
    "bc=b%c\n",
    "cd=c%d\n",
    "de=d%e\n",
    "ea=e%a\n",
    "print(ab)\n",
    "print(bc)\n",
    "print(cd)\n",
    "print(de)\n",
    "print(ea)"
   ]
  },
  {
   "cell_type": "markdown",
   "id": "4a06a32c-786b-4c17-9ae0-fb47d7b30b22",
   "metadata": {},
   "source": [
    "#### Exponentiation(**)"
   ]
  },
  {
   "cell_type": "code",
   "execution_count": 37,
   "id": "9fa1e794-280f-461e-9c52-2afd628ab9b2",
   "metadata": {},
   "outputs": [
    {
     "name": "stdout",
     "output_type": "stream",
     "text": [
      "1.435929092214352e-72\n",
      "2821109907456\n",
      "21661481985318866090456360813617841433097164651373566993519371723551728967231450179999800047688590453885868835635965404913860608\n",
      "23890651553407089189150257713560977811585903355239590396655305481256157973273723483029257464362191516289028046725840844241929711323529836983656327963329658052404929279682413165436177466003116452431186746531782085143246051988544492981611066015565278465711154026205366814689531501729834252919852378670883369692441781411483583935514965206502195088235487688694220814562054354505945730054462121411436919017772262590462066232767799995415307655845726109052680513008786892528932340379113174070197115101988609120906191879727819151448647401200883994673473241844027443510795618346340027860684549734560988918526080906341361\n",
      "755989327781257933727684902071057200863830411034481317587504076578667436880871840073152968286977502652467874450202614509780826350176499592774509000023232937554377026152087420825579219768668760097838826160298533504565194926963893195237295652864\n"
     ]
    }
   ],
   "source": [
    "a=99\n",
    "b=-36\n",
    "c=8\n",
    "d=141\n",
    "e=284\n",
    "ab=a**b\n",
    "bc=b**c\n",
    "cd=c**d\n",
    "de=d**e\n",
    "ea=e**a\n",
    "print(ab)\n",
    "print(bc)\n",
    "print(cd)\n",
    "print(de)\n",
    "print(ea)"
   ]
  },
  {
   "cell_type": "markdown",
   "id": "e0f7cbdd-adca-4157-bb49-baf3ed2a210f",
   "metadata": {},
   "source": [
    "#### Floor Division(//)"
   ]
  },
  {
   "cell_type": "markdown",
   "id": "528830c0-9687-4a4e-a1c3-89075b2907ee",
   "metadata": {},
   "source": [
    "result removes the decimal "
   ]
  },
  {
   "cell_type": "code",
   "execution_count": 43,
   "id": "b09e95f2-2bed-4f62-95b3-67bfac9cbcba",
   "metadata": {},
   "outputs": [
    {
     "name": "stdout",
     "output_type": "stream",
     "text": [
      "3\n",
      "-1\n",
      "-9.0\n",
      "41.0\n",
      "0.0\n"
     ]
    }
   ],
   "source": [
    "a=85\n",
    "b=23\n",
    "c=-8324\n",
    "d=962.5\n",
    "e=23.1\n",
    "ab=a//b\n",
    "bc=b//c\n",
    "cd=c//d\n",
    "de=d//e\n",
    "ea=e//a\n",
    "print(ab)\n",
    "print(bc)\n",
    "print(cd)\n",
    "print(de)\n",
    "print(ea)"
   ]
  },
  {
   "cell_type": "markdown",
   "id": "c004a183-a8a0-480f-8177-793dc2235b28",
   "metadata": {},
   "source": [
    "### 2. Assignment operators"
   ]
  },
  {
   "cell_type": "markdown",
   "id": "c5174f5a-f6ce-4ef1-95cc-cbfc1d277963",
   "metadata": {},
   "source": [
    "Assignment operators are used to assign values to variables\n",
    "#### Addition Assignment Operator:"
   ]
  },
  {
   "cell_type": "code",
   "execution_count": 54,
   "id": "bed6ffcf-d031-4823-a4f2-c5ef639ff064",
   "metadata": {},
   "outputs": [
    {
     "name": "stdout",
     "output_type": "stream",
     "text": [
      "92\n",
      "49\n",
      "16.299999999999997\n",
      "488.5\n",
      "528.2\n"
     ]
    }
   ],
   "source": [
    "a=7\n",
    "b=85\n",
    "c=-36\n",
    "d=52.3\n",
    "e=436.2\n",
    "a+=b\n",
    "b+=c\n",
    "c+=d\n",
    "d+=e\n",
    "e+=a\n",
    "print(a)\n",
    "print(b)\n",
    "print(c)\n",
    "print(d)\n",
    "print(e)"
   ]
  },
  {
   "cell_type": "markdown",
   "id": "dce76d53-12d4-4ac7-b462-bccab7162d43",
   "metadata": {},
   "source": [
    "#### Subtraction Assignment Operator:"
   ]
  },
  {
   "cell_type": "code",
   "execution_count": 58,
   "id": "02f51df3-b1e3-4315-8bf1-59a2782548da",
   "metadata": {},
   "outputs": [
    {
     "name": "stdout",
     "output_type": "stream",
     "text": [
      "138\n",
      "-111.5\n",
      "-46.7\n",
      "82.2\n",
      "-147\n"
     ]
    }
   ],
   "source": [
    "a=53\n",
    "b=-85\n",
    "c=26.5\n",
    "d=73.2\n",
    "e=-9\n",
    "a-=b\n",
    "b-=c\n",
    "c-=d\n",
    "d-=e\n",
    "e-=a\n",
    "print(a)\n",
    "print(b)\n",
    "print(c)\n",
    "print(d)\n",
    "print(e)"
   ]
  },
  {
   "cell_type": "markdown",
   "id": "a2057047-a37d-4f73-a854-9ef321c8a2d3",
   "metadata": {},
   "source": [
    "#### Multiplication Assignmment Operator:"
   ]
  },
  {
   "cell_type": "code",
   "execution_count": 61,
   "id": "5cc78662-62b9-4db7-86d6-b86da51eb96a",
   "metadata": {},
   "outputs": [
    {
     "name": "stdout",
     "output_type": "stream",
     "text": [
      "1056\n",
      "780\n",
      "2145\n",
      "1683\n",
      "53856\n"
     ]
    }
   ],
   "source": [
    "a=88\n",
    "b=12\n",
    "c=65\n",
    "d=33\n",
    "e=51\n",
    "a*=b\n",
    "b*=c\n",
    "c*=d\n",
    "d*=e\n",
    "e*=a\n",
    "print(a)\n",
    "print(b)\n",
    "print(c)\n",
    "print(d)\n",
    "print(e)"
   ]
  },
  {
   "cell_type": "markdown",
   "id": "76b8422b-6fce-4064-b5a7-498b33ce8758",
   "metadata": {},
   "source": [
    "#### Division Assignment Operator:"
   ]
  },
  {
   "cell_type": "code",
   "execution_count": 64,
   "id": "e7f135d7-a427-4501-89d9-8fe908a3668a",
   "metadata": {},
   "outputs": [
    {
     "name": "stdout",
     "output_type": "stream",
     "text": [
      "0.35384615384615387\n",
      "0.7926829268292683\n",
      "0.9010989010989011\n",
      "1.7169811320754718\n",
      "149.78260869565216\n"
     ]
    }
   ],
   "source": [
    "a=23\n",
    "b=65\n",
    "c=82\n",
    "d=91\n",
    "e=53\n",
    "a/=b\n",
    "b/=c\n",
    "c/=d\n",
    "d/=e\n",
    "e/=a\n",
    "print(a)\n",
    "print(b)\n",
    "print(c)\n",
    "print(d)\n",
    "print(e)"
   ]
  },
  {
   "cell_type": "markdown",
   "id": "79017074-46dd-45ab-b966-cbc5a398dc03",
   "metadata": {},
   "source": [
    "#### Modulus Assignment Operator:"
   ]
  },
  {
   "cell_type": "code",
   "execution_count": 67,
   "id": "ab206f5f-8d60-4c2a-ad08-ca052235e9c2",
   "metadata": {},
   "outputs": [
    {
     "name": "stdout",
     "output_type": "stream",
     "text": [
      "-439\n",
      "477\n",
      "467.79999999999995\n",
      "8.200000000000045\n",
      "-355\n"
     ]
    }
   ],
   "source": [
    "a=83\n",
    "b=-522\n",
    "c=999\n",
    "d=531.2\n",
    "e=523\n",
    "a%=b\n",
    "b%=c\n",
    "c%=d\n",
    "d%=e\n",
    "e%=a\n",
    "print(a)\n",
    "print(b)\n",
    "print(c)\n",
    "print(d)\n",
    "print(e)"
   ]
  },
  {
   "cell_type": "markdown",
   "id": "b442e511-3de0-40b4-afbc-6a5d9a49272d",
   "metadata": {},
   "source": [
    "#### Exponentiation Assignment Operator:"
   ]
  },
  {
   "cell_type": "code",
   "execution_count": 70,
   "id": "33a0acad-c2f5-4805-91a3-0f28a0aef87a",
   "metadata": {},
   "outputs": [
    {
     "name": "stdout",
     "output_type": "stream",
     "text": [
      "1\n",
      "8\n",
      "81\n",
      "1024\n",
      "5\n"
     ]
    }
   ],
   "source": [
    "a=1\n",
    "b=2\n",
    "c=3\n",
    "d=4\n",
    "e=5\n",
    "a**=b\n",
    "b**=c\n",
    "c**=d\n",
    "d**=e\n",
    "e**=a\n",
    "print(a)\n",
    "print(b)\n",
    "print(c)\n",
    "print(d)\n",
    "print(e)"
   ]
  },
  {
   "cell_type": "markdown",
   "id": "61bf5677-019c-488b-8c0d-3848edc8099b",
   "metadata": {},
   "source": [
    "### 3. Python Comparison Operators\n",
    "Comparison operators are used to compare two values\n",
    "#### Equality Operators"
   ]
  },
  {
   "cell_type": "code",
   "execution_count": 75,
   "id": "f4ef9cb8-9dd5-40f2-88ac-b805a497180a",
   "metadata": {},
   "outputs": [
    {
     "name": "stdout",
     "output_type": "stream",
     "text": [
      "False\n",
      "False\n",
      "False\n",
      "True\n",
      "False\n"
     ]
    }
   ],
   "source": [
    "a=\"hi\"\n",
    "b=\"bye\"\n",
    "c=\"hi\"\n",
    "d=69\n",
    "e=\"Hii!\"\n",
    "f=69.69\n",
    "print(a==b)\n",
    "print(d==f)\n",
    "print(c==d)\n",
    "print(a==c)\n",
    "print(c==e)"
   ]
  },
  {
   "cell_type": "markdown",
   "id": "7e0bdfe5-c0a6-4d55-9dea-cd1fed914a67",
   "metadata": {},
   "source": [
    "#### Not equal to Operator:"
   ]
  },
  {
   "cell_type": "code",
   "execution_count": 80,
   "id": "397503a4-94e8-472e-87e2-b05bc3275210",
   "metadata": {},
   "outputs": [
    {
     "name": "stdout",
     "output_type": "stream",
     "text": [
      "True\n",
      "False\n",
      "True\n",
      "True\n",
      "True\n"
     ]
    }
   ],
   "source": [
    "a=5\n",
    "b=852\n",
    "c=5\n",
    "d=963\n",
    "e=-152\n",
    "\n",
    "print(a!=b)\n",
    "print(a!=c)\n",
    "print(c!=d)\n",
    "print(d!=e)\n",
    "print(e!=a)"
   ]
  },
  {
   "cell_type": "markdown",
   "id": "83dff390-c203-4b72-ab31-2bb84f37881e",
   "metadata": {},
   "source": [
    "#### Greater than Operator:"
   ]
  },
  {
   "cell_type": "code",
   "execution_count": 83,
   "id": "f8f00190-a3ae-43f1-bf00-192969ca2dbf",
   "metadata": {},
   "outputs": [
    {
     "name": "stdout",
     "output_type": "stream",
     "text": [
      "False\n",
      "True\n",
      "True\n",
      "False\n",
      "False\n"
     ]
    }
   ],
   "source": [
    "a=102\n",
    "b=283\n",
    "c=32.5\n",
    "d=-85\n",
    "e=53\n",
    "\n",
    "print(a>b)\n",
    "print(b>c)\n",
    "print(c>d)\n",
    "print(d>e)\n",
    "print(e>a)"
   ]
  },
  {
   "cell_type": "markdown",
   "id": "182e3f94-b7e7-4a26-90be-1e2024511e3c",
   "metadata": {},
   "source": [
    "#### Less than Operator:"
   ]
  },
  {
   "cell_type": "code",
   "execution_count": 86,
   "id": "56e5f634-773c-4cff-901b-96eb8bb3e08a",
   "metadata": {},
   "outputs": [
    {
     "name": "stdout",
     "output_type": "stream",
     "text": [
      "False\n",
      "False\n",
      "False\n",
      "False\n",
      "True\n"
     ]
    }
   ],
   "source": [
    "a=96\n",
    "b=74\n",
    "c=4\n",
    "d=-0.2\n",
    "e=-856\n",
    "\n",
    "print(a<b)\n",
    "print(b<c)\n",
    "print(c<d)\n",
    "print(d<e)\n",
    "print(e<a)"
   ]
  },
  {
   "cell_type": "markdown",
   "id": "170cffad-fbf9-4c8a-ab28-c4743ab096b2",
   "metadata": {},
   "source": [
    "#### Greater than or equal to Operator:"
   ]
  },
  {
   "cell_type": "code",
   "execution_count": 89,
   "id": "1a655f2a-3528-44df-b4ff-0106875043ad",
   "metadata": {},
   "outputs": [
    {
     "name": "stdout",
     "output_type": "stream",
     "text": [
      "False\n",
      "True\n",
      "True\n",
      "True\n",
      "False\n"
     ]
    }
   ],
   "source": [
    "a=85\n",
    "b=636\n",
    "c=241\n",
    "d=0.236\n",
    "e=-852\n",
    "\n",
    "print(a>=b)\n",
    "print(b>=c)\n",
    "print(c>=d)\n",
    "print(d>=e)\n",
    "print(e>=a)"
   ]
  },
  {
   "cell_type": "markdown",
   "id": "ccbbe817-a40c-4e8e-91cd-b1bf88f88e8b",
   "metadata": {},
   "source": [
    "#### Less than or equal to Operator:"
   ]
  },
  {
   "cell_type": "code",
   "execution_count": 92,
   "id": "a97f7793-6433-45b8-bea0-593b8c62e5c5",
   "metadata": {},
   "outputs": [
    {
     "name": "stdout",
     "output_type": "stream",
     "text": [
      "False\n",
      "False\n",
      "True\n",
      "False\n",
      "True\n"
     ]
    }
   ],
   "source": [
    "a=48\n",
    "b=6.7\n",
    "c=0.3\n",
    "d=86\n",
    "e=-836\n",
    "\n",
    "print(a<=b)\n",
    "print(b<=c)\n",
    "print(c<=d)\n",
    "print(d<=e)\n",
    "print(e<=a)"
   ]
  },
  {
   "cell_type": "markdown",
   "id": "b45fab5b-fdab-42ef-934a-4d8e956f3b98",
   "metadata": {},
   "source": [
    "### 4.Logical Operator:\n",
    "A logical operator is a symbol or word used to connect two or more expressions suchthat the value of the compound expression produced depends only on that of the original expressions and on the meaning of the operator. Common logical operators include AND, OR, and NOT.\n",
    "#### And Operator: Returns true if both the ends are true"
   ]
  },
  {
   "cell_type": "code",
   "execution_count": 99,
   "id": "c809a0c8-18fb-4508-98da-1102fc3d2d7c",
   "metadata": {},
   "outputs": [
    {
     "name": "stdout",
     "output_type": "stream",
     "text": [
      "False\n",
      "True\n",
      "True\n",
      "False\n",
      "False\n"
     ]
    }
   ],
   "source": [
    "print(3>12 and 114>13)\n",
    "print(87>42 and 472>124)\n",
    "print(22==22 and 112==112)\n",
    "print(104==184 and 1412>=42)\n",
    "print(5424>165 and 114<14)"
   ]
  },
  {
   "cell_type": "markdown",
   "id": "37af332b-3423-49f0-a416-9c7a01202783",
   "metadata": {},
   "source": [
    "#### Or Operator: Returns true if the operand is false."
   ]
  },
  {
   "cell_type": "code",
   "execution_count": 102,
   "id": "8e8d5cb7-c699-44c9-8048-5ff019423c52",
   "metadata": {},
   "outputs": [
    {
     "name": "stdout",
     "output_type": "stream",
     "text": [
      "True\n",
      "True\n",
      "False\n",
      "False\n",
      "True\n"
     ]
    }
   ],
   "source": [
    "print(1>33 or 114>13)\n",
    "print(798>232 or 412>124)\n",
    "print(231==12 or 112==412)\n",
    "print(44==144 or 1>=412)\n",
    "print(5>1 or 14<14)"
   ]
  },
  {
   "cell_type": "markdown",
   "id": "d5124d98-6a6e-4ae2-84f2-a70da98cf356",
   "metadata": {},
   "source": [
    "#### not Operator: Returns true if the operand is false."
   ]
  },
  {
   "cell_type": "code",
   "execution_count": 107,
   "id": "7e232dac-e3a2-49e7-91bb-65b399e1b00e",
   "metadata": {},
   "outputs": [
    {
     "name": "stdout",
     "output_type": "stream",
     "text": [
      "False\n",
      "True\n",
      "False\n",
      "True\n",
      "False\n"
     ]
    }
   ],
   "source": [
    "print(not(4>3))\n",
    "print(not(44!=44 or 83<48))\n",
    "print(not(923>=32))\n",
    "print(not(45==65))\n",
    "print(not(66>23 and 72!=87))"
   ]
  },
  {
   "cell_type": "markdown",
   "id": "17deafae-af2f-4095-a217-735f4a0a53d0",
   "metadata": {},
   "source": [
    "### 5.Identity Operators:\n",
    "Identify whether the value is present or not\n",
    "#### is Operator: Returns true if the operands are identical"
   ]
  },
  {
   "cell_type": "code",
   "execution_count": 113,
   "id": "f4e3b652-bff9-4230-baf8-cb356d89aff9",
   "metadata": {},
   "outputs": [
    {
     "name": "stdout",
     "output_type": "stream",
     "text": [
      "False\n",
      "False\n",
      "True\n",
      "False\n",
      "True\n",
      "True\n"
     ]
    }
   ],
   "source": [
    "a=\"hello world\"\n",
    "b=\"hello\"\n",
    "c=51\n",
    "d=51\n",
    "e=\"hello\"\n",
    "f=655.932\n",
    "g=41.23\n",
    "\n",
    "print(a is b)\n",
    "print(b is a)\n",
    "print(c is d)\n",
    "print(d is e)\n",
    "print(e is b)\n",
    "print(b is e)"
   ]
  },
  {
   "cell_type": "markdown",
   "id": "233bcd94-9e96-4512-8b07-1872e6373116",
   "metadata": {},
   "source": [
    "#### is not Operator: True if the operands are not identical"
   ]
  },
  {
   "cell_type": "code",
   "execution_count": 116,
   "id": "c4c85a28-c2ed-49d5-9dec-7fcc02d19b9d",
   "metadata": {},
   "outputs": [
    {
     "name": "stdout",
     "output_type": "stream",
     "text": [
      "True\n",
      "True\n",
      "False\n",
      "True\n",
      "True\n",
      "False\n"
     ]
    }
   ],
   "source": [
    "a=\"hello world\"\n",
    "b=\"hello\"\n",
    "c=51\n",
    "d=51\n",
    "e=\"hello\"\n",
    "f=655.932\n",
    "g=41.23\n",
    "\n",
    "print(a is not b)\n",
    "print(b is not c)\n",
    "print(c is not d)\n",
    "print(d is not e)\n",
    "print(e is not f)\n",
    "print(b is not e)"
   ]
  },
  {
   "cell_type": "markdown",
   "id": "721a285b-ed54-4eea-aef1-1c7e1e55a011",
   "metadata": {},
   "source": [
    "### 6.Membership Operator:\n",
    "Membership operators are used to test if a sequence is presented in an object\n",
    "#### In Operator: True if value or variable is found in sequence"
   ]
  },
  {
   "cell_type": "code",
   "execution_count": 121,
   "id": "d45d73dc-98c4-4d5d-9825-7d1c38acc578",
   "metadata": {},
   "outputs": [
    {
     "name": "stdout",
     "output_type": "stream",
     "text": [
      "True\n",
      "False\n",
      "True\n",
      "False\n",
      "False\n"
     ]
    }
   ],
   "source": [
    "a=\"sravan\"\n",
    "b=[8,21,14,24,3,552,25,44]\n",
    "print(\"a\" in a)\n",
    "print(\"N\" in a) \n",
    "print(24 in b)\n",
    "print(0 in b)\n",
    "print(23 in b)"
   ]
  },
  {
   "cell_type": "markdown",
   "id": "8d0fb1af-d5a1-4f24-86b4-583f354a2cfd",
   "metadata": {},
   "source": [
    "#### not in Operator: True if value or variable is not found in the sequence"
   ]
  },
  {
   "cell_type": "code",
   "execution_count": 124,
   "id": "9af56f99-2314-4ebc-9bd2-d7908fa21984",
   "metadata": {},
   "outputs": [
    {
     "name": "stdout",
     "output_type": "stream",
     "text": [
      "False\n",
      "True\n",
      "False\n",
      "True\n",
      "True\n"
     ]
    }
   ],
   "source": [
    "a=\"sravan\"\n",
    "b=[8,21,14,24,3,552,25,44]\n",
    "print(\"a\" not in a)\n",
    "print(\"H\" not in a) \n",
    "print(24 not in b)\n",
    "print(0 not in b)\n",
    "print(23 not in b)"
   ]
  },
  {
   "cell_type": "markdown",
   "id": "f2ca6051-8fe3-457b-a7ad-d261b4412f1d",
   "metadata": {},
   "source": [
    "### Precedence Operator:\n",
    "##### operator precedence describes the order in whichoperations are performed"
   ]
  },
  {
   "cell_type": "markdown",
   "id": "85897536-2043-42d2-97e2-abef4764c97e",
   "metadata": {},
   "source": [
    "Parentheses ()\n",
    "\n",
    "Exponentiation **\n",
    "\n",
    "Unary plus and minus +x, -x\n",
    "\n",
    "Multiplication, Division, Floor Division, Modulus *, /, //, %\n",
    "\n",
    "Addition and Subtraction +, -\n",
    "\n",
    "Bitwise Shift Operators <<, >>\n",
    "\n",
    "Bitwise AND &\n",
    "\n",
    "Bitwise XOR ^\n",
    "\n",
    "Bitwise OR |\n",
    "\n",
    "Comparison Operators <, <=, >, >=, ==, !=\n",
    "\n",
    "Identity Operators is, is not\n",
    "\n",
    "Membership Operators in, not in\n",
    "\n",
    "Logical NOT not\n",
    "\n",
    "Logical AND and\n",
    "\n"
   ]
  },
  {
   "cell_type": "code",
   "execution_count": 129,
   "id": "2dcf8e0a-b43b-4796-8c54-80817daab7c0",
   "metadata": {},
   "outputs": [
    {
     "data": {
      "text/plain": [
       "328256967394537078001"
      ]
     },
     "execution_count": 129,
     "metadata": {},
     "output_type": "execute_result"
    }
   ],
   "source": [
    "8*48+3*(2)+16+3**43-32"
   ]
  },
  {
   "cell_type": "code",
   "execution_count": 131,
   "id": "13a72e5a-200d-46b3-aa68-89cb00b08ab1",
   "metadata": {},
   "outputs": [
    {
     "data": {
      "text/plain": [
       "-5232704.0"
      ]
     },
     "execution_count": 131,
     "metadata": {},
     "output_type": "execute_result"
    }
   ],
   "source": [
    "7657-862*(8627-2538)+8357+(7336>7848)/8885"
   ]
  }
 ],
 "metadata": {
  "kernelspec": {
   "display_name": "Python 3 (ipykernel)",
   "language": "python",
   "name": "python3"
  },
  "language_info": {
   "codemirror_mode": {
    "name": "ipython",
    "version": 3
   },
   "file_extension": ".py",
   "mimetype": "text/x-python",
   "name": "python",
   "nbconvert_exporter": "python",
   "pygments_lexer": "ipython3",
   "version": "3.12.4"
  }
 },
 "nbformat": 4,
 "nbformat_minor": 5
}
