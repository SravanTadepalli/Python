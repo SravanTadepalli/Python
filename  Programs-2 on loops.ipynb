{
 "cells": [
  {
   "cell_type": "code",
   "execution_count": 1,
   "id": "4531094a-739c-4fce-80eb-a275285aa083",
   "metadata": {},
   "outputs": [
    {
     "name": "stdin",
     "output_type": "stream",
     "text": [
      "Enter The Number:  5\n"
     ]
    },
    {
     "name": "stdout",
     "output_type": "stream",
     "text": [
      "Pentagon has 5 slides\n"
     ]
    }
   ],
   "source": [
    "shapes = {\n",
    "    1: \"Line has 1 slide\",\n",
    "    2: \"Circle has 2 slides\",\n",
    "    3: \"Triangle has 3 slides\",\n",
    "    4: \"Square has 4 slides\",\n",
    "    5: \"Pentagon has 5 slides\",\n",
    "    6: \"Hexagon has 6 slides\",\n",
    "    7: \"Heptagon has 7 slides\",\n",
    "    8: \"Octagon has 8 slides\",\n",
    "    9: \"Nonagon has 9 slides\",\n",
    "    10: \"Decagon has 10 slides\"\n",
    "}\n",
    "\n",
    "f= int(input(\"Enter The Number: \"))\n",
    "\n",
    "for n in shapes:\n",
    "    if f== n:\n",
    "        print(shapes[n])\n",
    "        break\n",
    "        \n",
    "else:\n",
    "    print(\"Invalid number, check once.\")"
   ]
  },
  {
   "cell_type": "code",
   "execution_count": 11,
   "id": "bf237080-920a-45a7-97dd-49c693892b5b",
   "metadata": {},
   "outputs": [
    {
     "name": "stdin",
     "output_type": "stream",
     "text": [
      "Enter month: may\n"
     ]
    },
    {
     "name": "stdout",
     "output_type": "stream",
     "text": [
      "May has 31 days\n"
     ]
    }
   ],
   "source": [
    "m=input(\"Enter month:\")\n",
    "month=m.capitalize()      \n",
    "D = [\"January\",\"March\",\"May\",\"July\",\"August\",\"October\",\"December\"]\n",
    "B= [\"April\",\"June\",\"September\",\"November\"]\n",
    "C= [\"Febuary\"]\n",
    "while True:\n",
    "    if month in D:\n",
    "        print(month,\"has 31 days\")\n",
    "        break\n",
    "    elif month in B:\n",
    "        print(month,\"has 30 days\")\n",
    "        break\n",
    "    elif month in C:\n",
    "        print(month,\"has 28 days\")\n",
    "        break\n",
    "    else:\n",
    "        print(month,\"is INVALID\")"
   ]
  },
  {
   "cell_type": "code",
   "execution_count": 19,
   "id": "a3f13952-392c-48e3-a6e9-9eaa846645f5",
   "metadata": {},
   "outputs": [
    {
     "name": "stdin",
     "output_type": "stream",
     "text": [
      "Enter the year: 2024\n"
     ]
    },
    {
     "name": "stdout",
     "output_type": "stream",
     "text": [
      "2024 is Leap Year\n"
     ]
    }
   ],
   "source": [
    "#leap year\n",
    "year=int(input(\"Enter the year:\"))\n",
    "for i in range(1):\n",
    "    if (year%400 == 0) or (year%4==0 and year%100!=0):\n",
    "        print(year,\"is Leap Year\")\n",
    "    else:\n",
    "        print(year,\"is Not a Leap Year\")"
   ]
  },
  {
   "cell_type": "code",
   "execution_count": 23,
   "id": "485abb28-7262-487a-b472-47d1f6a82c68",
   "metadata": {},
   "outputs": [
    {
     "name": "stdin",
     "output_type": "stream",
     "text": [
      "Enter the colour: red\n"
     ]
    },
    {
     "name": "stdout",
     "output_type": "stream",
     "text": [
      "Red :STOP...!\n"
     ]
    }
   ],
   "source": [
    "#traffic signals\n",
    "m=input(\"Enter the colour:\")\n",
    "c=m.capitalize()\n",
    "for i in range(1):\n",
    "    if c==\"Red\":\n",
    "        print(c,\":STOP...!\")\n",
    "    elif c==\"Yellow\":\n",
    "        print(c,\":Get READY...!\")\n",
    "    elif c==\"Green\":\n",
    "        print(c,\":GOOO....!\")\n",
    "    else:\n",
    "        print(c,\"invalid colour\")"
   ]
  },
  {
   "cell_type": "code",
   "execution_count": 37,
   "id": "20292677-66ef-4d4c-b5f2-2f4ee109c1b0",
   "metadata": {},
   "outputs": [
    {
     "name": "stdin",
     "output_type": "stream",
     "text": [
      "Enter The Color green\n"
     ]
    },
    {
     "name": "stdout",
     "output_type": "stream",
     "text": [
      "GREEN :GOOO....!\n"
     ]
    }
   ],
   "source": [
    "#traffic signals\n",
    "m = {1: \"RED\",\n",
    "    2: \"YELLOW\",\n",
    "    3: \"GREEN\"}\n",
    "D= input(\"Enter The Color\")\n",
    "c=D.upper()\n",
    "for i in m:\n",
    "    if c==\"RED\":\n",
    "        print(c,\":STOP...!\")\n",
    "        break\n",
    "    elif c==\"YELLOW\":\n",
    "        print(c,\":Get READY...!\")\n",
    "        break\n",
    "    elif c==\"GREEN\":\n",
    "        print(c,\":GOOO....!\")\n",
    "        break\n",
    "    else:\n",
    "        print(c,\"invalid colour\")\n",
    "        break"
   ]
  },
  {
   "cell_type": "code",
   "execution_count": 59,
   "id": "2d5dd3b0-6889-400f-9770-2059d2fbb275",
   "metadata": {},
   "outputs": [
    {
     "name": "stdin",
     "output_type": "stream",
     "text": [
      "Enter numbers separated by commas:  4,5,6,3,2,1,2,36\n"
     ]
    },
    {
     "name": "stdout",
     "output_type": "stream",
     "text": [
      "Your list: [4, 5, 6, 3, 2, 1, 2, 36]\n",
      "Even numbers: [4, 6, 2, 2, 36]\n",
      "Odd numbers: [5, 3, 1]\n"
     ]
    }
   ],
   "source": [
    "#even or odd in a list\n",
    "numbers=input(\"Enter numbers separated by commas: \")\n",
    "i = [int(x) for x in numbers.split(',')]\n",
    "\n",
    "print(\"Your list:\",i)\n",
    "even_numbers = []\n",
    "odd_numbers = []\n",
    "\n",
    "for n in i:\n",
    "    if n % 2 == 0:\n",
    "        even_numbers.append(n)\n",
    "    else:\n",
    "        odd_numbers.append(n)\n",
    "\n",
    "print(\"Even numbers:\", even_numbers)\n",
    "print(\"Odd numbers:\", odd_numbers)\n"
   ]
  },
  {
   "cell_type": "code",
   "execution_count": 67,
   "id": "e1d533f9-8e4e-4216-9632-2ce1736d6ca4",
   "metadata": {},
   "outputs": [
    {
     "name": "stdin",
     "output_type": "stream",
     "text": [
      "Enter the String: SRAvantadepalli\n"
     ]
    },
    {
     "name": "stdout",
     "output_type": "stream",
     "text": [
      "no. of vowels: 6\n",
      "no. of consonants 9\n"
     ]
    }
   ],
   "source": [
    "#vowels and consonants\n",
    "x=input(\"Enter the String:\")\n",
    "m=x.lower()\n",
    "vowels=[\"a\",\"e\",\"i\",\"o\",\"u\"]\n",
    "g=0\n",
    "d=0\n",
    "for i in m:\n",
    "    if i in vowels:\n",
    "        g=g+1\n",
    "    else:\n",
    "        d=d+1  \n",
    "print(\"no. of vowels:\",g)\n",
    "print(\"no. of consonants\",d)"
   ]
  },
  {
   "cell_type": "code",
   "execution_count": null,
   "id": "ade4aec8-659d-4671-b8c3-1103f5a79b30",
   "metadata": {},
   "outputs": [],
   "source": []
  }
 ],
 "metadata": {
  "kernelspec": {
   "display_name": "Python 3 (ipykernel)",
   "language": "python",
   "name": "python3"
  },
  "language_info": {
   "codemirror_mode": {
    "name": "ipython",
    "version": 3
   },
   "file_extension": ".py",
   "mimetype": "text/x-python",
   "name": "python",
   "nbconvert_exporter": "python",
   "pygments_lexer": "ipython3",
   "version": "3.12.4"
  }
 },
 "nbformat": 4,
 "nbformat_minor": 5
}
