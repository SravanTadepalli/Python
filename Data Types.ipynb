{
 "cells": [
  {
   "cell_type": "markdown",
   "id": "bc33bb4d-8ae5-46c7-910f-c0f6476f08e2",
   "metadata": {},
   "source": [
    "### Python Data Types"
   ]
  },
  {
   "cell_type": "markdown",
   "id": "1f1185ee-ee11-41e0-a77c-004769e0f286",
   "metadata": {},
   "source": [
    "#### Numeric Data Types in Python"
   ]
  },
  {
   "cell_type": "markdown",
   "id": "c56ecd48-38b5-43bb-8a67-3c86cc83f18d",
   "metadata": {},
   "source": [
    "The numeric data type in Python represents the data that has a numeric value. A numeric value can be an integer, a floating number, or even a complex number. These values are defined as Python int, Python float, and Python complex classes in Python.\n",
    "\n",
    "Integers – This value is represented by int class. It contains positive or negative whole numbers (without fractions or decimals). In Python, there is no limit to how long an integer value can be.\n",
    "\n",
    "Float – This value is represented by the float class. It is a real number with a floating-point representation. It is specified by a decimal point. Optionally, the character e or E followed by a positive or negative integer may be appended to specify scientific notation.\n",
    "\n",
    "Complex Numbers – A complex number is represented by a complex class. It is specified as (real part) + (imaginary part)j. For example – 5+6j\n",
    "\n",
    "Boolean - The boolean data type is either True or False. In Python, boolean variables are defined by the True and False keywords. The output <class 'bool'> indicates the variable is a boolean data type. Note the keywords True and False must have an Upper Case first letter."
   ]
  },
  {
   "cell_type": "markdown",
   "id": "48f37c5f-9be8-4b9c-be17-9852a614af6f",
   "metadata": {},
   "source": [
    "##### Integers"
   ]
  },
  {
   "cell_type": "code",
   "execution_count": 54,
   "id": "0509370a-958b-4f7d-ae70-be6d54731433",
   "metadata": {},
   "outputs": [
    {
     "name": "stdout",
     "output_type": "stream",
     "text": [
      "<class 'int'>\n",
      "<class 'int'>\n",
      "<class 'int'>\n",
      "<class 'int'>\n",
      "<class 'int'>\n"
     ]
    }
   ],
   "source": [
    "a=9\n",
    "b=-77\n",
    "c=39\n",
    "d=-85\n",
    "e=0\n",
    "print(type(a))\n",
    "print(type(b))\n",
    "print(type(c))\n",
    "print(type(d))\n",
    "print(type(e)) "
   ]
  },
  {
   "cell_type": "markdown",
   "id": "a0074813-be68-4e00-9b33-307973d7b558",
   "metadata": {},
   "source": [
    "#### Float"
   ]
  },
  {
   "cell_type": "code",
   "execution_count": 52,
   "id": "8ac040a8-92f5-4dac-8025-7818043d2357",
   "metadata": {},
   "outputs": [
    {
     "name": "stdout",
     "output_type": "stream",
     "text": [
      "<class 'float'>\n",
      "<class 'float'>\n",
      "<class 'float'>\n",
      "<class 'float'>\n",
      "<class 'float'>\n"
     ]
    }
   ],
   "source": [
    "a=9.6\n",
    "b=69.58\n",
    "c=-86.0\n",
    "d=0.00\n",
    "e=-686.98\n",
    "print(type(a))\n",
    "print(type(b))\n",
    "print(type(c))\n",
    "print(type(d))\n",
    "print(type(e))     "
   ]
  },
  {
   "cell_type": "markdown",
   "id": "7190da25-09f8-4fd1-8f7d-afe376e8643c",
   "metadata": {},
   "source": [
    "#### Complex"
   ]
  },
  {
   "cell_type": "code",
   "execution_count": 50,
   "id": "ab556bbf-9e05-46ca-9386-b1a2736a55a8",
   "metadata": {},
   "outputs": [
    {
     "name": "stdout",
     "output_type": "stream",
     "text": [
      "<class 'complex'>\n",
      "<class 'complex'>\n",
      "<class 'complex'>\n",
      "<class 'complex'>\n",
      "<class 'complex'>\n"
     ]
    }
   ],
   "source": [
    "a=5+1j\n",
    "b=8-9j\n",
    "c=5-3j\n",
    "d=-8-19j\n",
    "e=66j\n",
    "print(type(a))\n",
    "print(type(b))\n",
    "print(type(c))\n",
    "print(type(d))\n",
    "print(type(e))   "
   ]
  },
  {
   "cell_type": "markdown",
   "id": "8366ec69-53c4-4f41-aa20-b10a1e1d1de5",
   "metadata": {},
   "source": [
    "### Int to Float Convertion\n"
   ]
  },
  {
   "cell_type": "code",
   "execution_count": 22,
   "id": "8d49dd41-f614-40bc-a589-2a267894f56f",
   "metadata": {},
   "outputs": [
    {
     "name": "stdout",
     "output_type": "stream",
     "text": [
      "8.0 <class 'int'>\n",
      "-95.0 <class 'int'>\n",
      "0.0 <class 'int'>\n",
      "52536.0 <class 'int'>\n",
      "-51.0 <class 'int'>\n"
     ]
    }
   ],
   "source": [
    "a=8\n",
    "b=-95\n",
    "c=0\n",
    "d=52536\n",
    "e=-51\n",
    "print(float(a),type(a))\n",
    "print(float(b),type(b))\n",
    "print(float(c),type(c))\n",
    "print(float(d),type(d))\n",
    "print(float(e),type(e))"
   ]
  },
  {
   "cell_type": "markdown",
   "id": "9df27090-55e4-4b34-a870-96750b2c424b",
   "metadata": {},
   "source": [
    "#### Float to Int"
   ]
  },
  {
   "cell_type": "code",
   "execution_count": 48,
   "id": "1ef6e25e-c18c-4aa4-9c33-cbba870a05df",
   "metadata": {},
   "outputs": [
    {
     "name": "stdout",
     "output_type": "stream",
     "text": [
      "-85 <class 'float'>\n",
      "66 <class 'float'>\n",
      "90239 <class 'float'>\n",
      "0 <class 'float'>\n",
      "-845 <class 'float'>\n"
     ]
    }
   ],
   "source": [
    "a=-85.9\n",
    "b=66.36\n",
    "c=90239.55\n",
    "d=0.25\n",
    "e=-845.44\n",
    "print(int(a),type(a))\n",
    "print(int(b),type(b))\n",
    "print(int(c),type(c))\n",
    "print(int(d),type(d))\n",
    "print(int(e),type(e))"
   ]
  },
  {
   "cell_type": "markdown",
   "id": "e82ea1ae-f217-4454-a685-b73038c726e3",
   "metadata": {},
   "source": [
    "#### Int to Complex"
   ]
  },
  {
   "cell_type": "code",
   "execution_count": 36,
   "id": "1d6e45be-3ae9-453c-86e3-4561c5ede4a4",
   "metadata": {},
   "outputs": [
    {
     "name": "stdout",
     "output_type": "stream",
     "text": [
      "(-563+0j) <class 'int'>\n",
      "(6.25+0j) <class 'float'>\n",
      "(6599+0j) <class 'int'>\n",
      "0j <class 'int'>\n",
      "(51+0j) <class 'int'>\n"
     ]
    }
   ],
   "source": [
    "a=-563\n",
    "b=6.25 \n",
    "c=6599\n",
    "d=0\n",
    "e=51\n",
    "print(complex(a),type(a)) \n",
    "print(complex(b),type(b)) \n",
    "print(complex(c),type(c))\n",
    "print(complex(d),type(d))\n",
    "print(complex(e),type(e))"
   ]
  },
  {
   "cell_type": "markdown",
   "id": "29e0c185-8a44-4854-acd2-e375eae757e5",
   "metadata": {},
   "source": [
    "#### Float to Complex\n"
   ]
  },
  {
   "cell_type": "code",
   "execution_count": 38,
   "id": "8f401526-8b96-4427-b17a-782b7920e102",
   "metadata": {},
   "outputs": [
    {
     "name": "stdout",
     "output_type": "stream",
     "text": [
      "(-5.9+0j) <class 'float'>\n",
      "(6.66+0j) <class 'float'>\n",
      "0j <class 'float'>\n",
      "(6.55+0j) <class 'float'>\n",
      "(-0.44+0j) <class 'float'>\n"
     ]
    }
   ],
   "source": [
    "a=-5.9\n",
    "b=6.66\n",
    "c=0.0\n",
    "d=6.55\n",
    "e=-0.44\n",
    "print(complex(a),type(a))\n",
    "print(complex(b),type(b))\n",
    "print(complex(c),type(c))\n",
    "print(complex(d),type(d))\n",
    "print(complex(e),type(e))"
   ]
  },
  {
   "cell_type": "markdown",
   "id": "ebc94ec0-58a1-4fa5-b2aa-de4906d28fb1",
   "metadata": {},
   "source": [
    "#### Boolean"
   ]
  },
  {
   "cell_type": "code",
   "execution_count": 41,
   "id": "18bea416-335f-478f-8f3b-9090392ec0aa",
   "metadata": {},
   "outputs": [
    {
     "name": "stdout",
     "output_type": "stream",
     "text": [
      "False\n",
      "True\n",
      "True\n",
      "True\n",
      "False\n",
      "False\n",
      "True\n",
      "True\n",
      "True\n",
      "False\n"
     ]
    }
   ],
   "source": [
    "print(5==9)\n",
    "print(4>2)\n",
    "print(23<448)\n",
    "print(22.4>22.3)\n",
    "print(-55>33)\n",
    "print(4>=89)\n",
    "print(5<9)\n",
    "print(91>=91)\n",
    "print(16>2)\n",
    "print(3.2>11)"
   ]
  },
  {
   "cell_type": "markdown",
   "id": "14dee788-c2e3-4297-9123-593553832946",
   "metadata": {},
   "source": [
    "#### Bool\n"
   ]
  },
  {
   "cell_type": "code",
   "execution_count": 46,
   "id": "d81002ca-06f9-4951-b665-fda51998e605",
   "metadata": {},
   "outputs": [
    {
     "name": "stdout",
     "output_type": "stream",
     "text": [
      "False\n",
      "False\n",
      "True\n",
      "True\n",
      "True\n"
     ]
    }
   ],
   "source": [
    "print(bool()) \n",
    "print(bool(0)) \n",
    "print(bool(-85))\n",
    "print(bool(853.25)) \n",
    "print(bool(75.3))"
   ]
  },
  {
   "cell_type": "code",
   "execution_count": null,
   "id": "82ed700b-2c77-4770-9701-f16558af2560",
   "metadata": {},
   "outputs": [],
   "source": []
  }
 ],
 "metadata": {
  "kernelspec": {
   "display_name": "Python 3 (ipykernel)",
   "language": "python",
   "name": "python3"
  },
  "language_info": {
   "codemirror_mode": {
    "name": "ipython",
    "version": 3
   },
   "file_extension": ".py",
   "mimetype": "text/x-python",
   "name": "python",
   "nbconvert_exporter": "python",
   "pygments_lexer": "ipython3",
   "version": "3.12.4"
  }
 },
 "nbformat": 4,
 "nbformat_minor": 5
}
