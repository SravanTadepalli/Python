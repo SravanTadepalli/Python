{
 "cells": [
  {
   "cell_type": "markdown",
   "id": "e5f25611-9230-445f-9bbd-f0cf37775ea4",
   "metadata": {},
   "source": [
    "### Python Variables\n",
    "\n",
    "Python Variable is containers that store values. Python is not “statically typed”. We do not need to declare variables before using them or declare their type. A variable is created the moment we first assign a value to it. A Python variable is a name given to a memory location. It is the basic unit of storage in a program. In this article, we will see how to define a variable in Python.\n",
    "\n",
    "Example of Variable in Python\n",
    "An Example of a Variable in Python is a representational name that serves as a pointer to an object. Once an object is assigned to a variable, it can be referred to by that name. In layman’s terms, we can say that Variable in Python is containers that store values."
   ]
  },
  {
   "cell_type": "code",
   "execution_count": 4,
   "id": "29dd2d84-9245-4799-acb3-3ae72d992c33",
   "metadata": {},
   "outputs": [
    {
     "name": "stdout",
     "output_type": "stream",
     "text": [
      "tom\n"
     ]
    }
   ],
   "source": [
    "Var = \"tom\"\n",
    "print(Var)\n"
   ]
  },
  {
   "cell_type": "markdown",
   "id": "82411d7f-f6a1-4b67-a53a-4d28d02aa052",
   "metadata": {},
   "source": [
    "### Rules for Python variables\n",
    "A Python variable name must start with a letter or the underscore character.\n",
    "\n",
    "A Python variable name cannot start with a number.\n",
    "\n",
    "A Python variable name can only contain alpha-numeric characters and underscores (A-z, 0-9, and _ ).\n",
    "\n",
    "Variable in Python names are case-sensitive (name, Name, and NAME are three different variables).\n",
    "\n",
    "The reserved words(keywords) in Python cannot be used to name the variable in Python."
   ]
  },
  {
   "cell_type": "markdown",
   "id": "6c0aabfc-e0f1-4af9-9a8f-b1e16c125330",
   "metadata": {},
   "source": [
    "### 20 valid and 20 invalid variables"
   ]
  },
  {
   "cell_type": "code",
   "execution_count": 12,
   "id": "a9a45b10-96ed-4be1-8327-3bf8420edd89",
   "metadata": {},
   "outputs": [
    {
     "name": "stdout",
     "output_type": "stream",
     "text": [
      "valid_var1 = 10\n",
      "_valid_var2 = 20\n",
      "validVar3 = 30\n",
      "VALID_VAR4 = 40\n",
      "var_5 = 50\n",
      "var6 = 60\n",
      "var7_8 = 70\n",
      "var_9_10 = 80\n",
      "variableName = 90\n",
      "varName2 = 100\n",
      "varName_3 = 110\n",
      "varName4_ = 120\n",
      "v = 130\n",
      "var = 140\n",
      "v_a_r = 150\n",
      "var_1 = 160\n",
      "_var = 170\n",
      "v2 = 180\n",
      "varOne = 190\n",
      "varTwo_ = 200\n",
      "var_Three = 210\n"
     ]
    }
   ],
   "source": [
    "# Valid variable names\n",
    "valid_var1 = 10\n",
    "_valid_var2 = 20\n",
    "validVar3 = 30\n",
    "VALID_VAR4 = 40\n",
    "var_5 = 50\n",
    "var6 = 60\n",
    "var7_8 = 70\n",
    "var_9_10 = 80\n",
    "variableName = 90\n",
    "varName2 = 100\n",
    "varName_3 = 110\n",
    "varName4_ = 120\n",
    "v = 130\n",
    "var = 140\n",
    "v_a_r = 150\n",
    "var_1 = 160\n",
    "_var = 170\n",
    "v2 = 180\n",
    "varOne = 190\n",
    "varTwo_ = 200\n",
    "var_Three = 210\n",
    "\n",
    "print(\"valid_var1 =\", valid_var1)\n",
    "print(\"_valid_var2 =\", _valid_var2)\n",
    "print(\"validVar3 =\", validVar3)\n",
    "print(\"VALID_VAR4 =\", VALID_VAR4)\n",
    "print(\"var_5 =\", var_5)\n",
    "print(\"var6 =\", var6)\n",
    "print(\"var7_8 =\", var7_8)\n",
    "print(\"var_9_10 =\", var_9_10)\n",
    "print(\"variableName =\", variableName)\n",
    "print(\"varName2 =\", varName2)\n",
    "print(\"varName_3 =\", varName_3)\n",
    "print(\"varName4_ =\", varName4_)\n",
    "print(\"v =\", v)\n",
    "print(\"var =\", var)\n",
    "print(\"v_a_r =\", v_a_r)\n",
    "print(\"var_1 =\", var_1)\n",
    "print(\"_var =\", _var)\n",
    "print(\"v2 =\", v2)\n",
    "print(\"varOne =\", varOne)\n",
    "print(\"varTwo_ =\", varTwo_)\n",
    "print(\"var_Three =\", var_Three)"
   ]
  },
  {
   "cell_type": "code",
   "execution_count": null,
   "id": "0c287e9a-0ec4-4f98-91cc-3752f190a7b8",
   "metadata": {},
   "outputs": [],
   "source": [
    "# Invalid variable names\n",
    "1var = 10             # Starts with a digit\n",
    "var-2 = 20            # Contains a hyphen\n",
    "var! = 30             # Contains an exclamation mark\n",
    "var@name = 40         # Contains an @ symbol\n",
    "var name = 50         # Contains a space\n",
    "var$ = 60             # Contains a dollar sign\n",
    "if = 70               # Reserved keyword\n",
    "class = 80            # Reserved keyword\n",
    "def = 90              # Reserved keyword\n",
    "try = 100             # Reserved keyword\n",
    "print = 110           # Reserved keyword\n",
    "import = 120          # Reserved keyword\n",
    "from = 130            # Reserved keyword\n",
    "while = 140           # Reserved keyword\n",
    "for = 150             # Reserved keyword\n",
    "and = 160             # Reserved keyword\n",
    "or = 170              # Reserved keyword\n",
    "not = 180             # Reserved keyword\n",
    "None = 190            # Reserved keyword (capitalized)\n",
    "True = 200            # Reserved keyword (capitalized)\n"
   ]
  },
  {
   "cell_type": "markdown",
   "id": "deafeb6e-332b-47cc-a99a-75cf21a7710f",
   "metadata": {},
   "source": [
    "### Multiple - Variables\n",
    "In Python, we can declare multiple variables in a single statement by separating the variables with commas."
   ]
  },
  {
   "cell_type": "code",
   "execution_count": 15,
   "id": "b1317c87-aa9e-4f97-8076-a09c97209d70",
   "metadata": {},
   "outputs": [
    {
     "name": "stdout",
     "output_type": "stream",
     "text": [
      "hi\n",
      "bye\n",
      "see you soon\n",
      "good bye\n",
      "good bye\n",
      "good bye\n"
     ]
    }
   ],
   "source": [
    "#Example 1\n",
    "x,y,z = \"hi\",\"bye\",\"see you soon\"\n",
    "print(x)\n",
    "print(y)\n",
    "print(z)\n",
    "\n",
    "#Example 2\n",
    "## We can assign the same value to multiple variables in one line also.\n",
    "x = y = z = \"good bye\"\n",
    "print(x)\n",
    "print(y)\n",
    "print(z)"
   ]
  },
  {
   "cell_type": "code",
   "execution_count": null,
   "id": "990aa109-263d-4af3-ae1a-bd2d06f30bd8",
   "metadata": {},
   "outputs": [],
   "source": []
  }
 ],
 "metadata": {
  "kernelspec": {
   "display_name": "Python 3 (ipykernel)",
   "language": "python",
   "name": "python3"
  },
  "language_info": {
   "codemirror_mode": {
    "name": "ipython",
    "version": 3
   },
   "file_extension": ".py",
   "mimetype": "text/x-python",
   "name": "python",
   "nbconvert_exporter": "python",
   "pygments_lexer": "ipython3",
   "version": "3.12.4"
  }
 },
 "nbformat": 4,
 "nbformat_minor": 5
}
