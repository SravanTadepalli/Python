{
 "cells": [
  {
   "cell_type": "markdown",
   "id": "4c6e6d89-55ba-4b4f-b150-154573b6662f",
   "metadata": {},
   "source": [
    "### Python Strings\n"
   ]
  },
  {
   "cell_type": "markdown",
   "id": "96869d92-df34-4b57-b440-f1e00cab1bf5",
   "metadata": {},
   "source": [
    "A string is a sequence of characters enclosed in quotes. Python supports both single (' ') and double (\" \") quotes for string literals. Triple quotes (''' ''' or \"\"\" \"\"\") are used for multi-line strings."
   ]
  },
  {
   "cell_type": "code",
   "execution_count": 3,
   "id": "c8da609a-7874-4c74-aede-8623d04a797b",
   "metadata": {},
   "outputs": [],
   "source": [
    "single_quote = 'Hello, World!'\n",
    "double_quote = \"Hello, World!\"\n",
    "multi_line = \"\"\"This is\n",
    "a multi-line string\"\"\"\n"
   ]
  },
  {
   "cell_type": "markdown",
   "id": "f14de8e8-8933-458a-81a4-09a07a591515",
   "metadata": {},
   "source": [
    "Immutability: Strings in Python are immutable, meaning once a string is created, it cannot be modified. Any operation that seems to modify a string will actually create a new string.\n",
    "\n",
    "#### 2. String Operations\n",
    "\n",
    "   \n",
    "Concatenation: Strings can be concatenated using the + operator."
   ]
  },
  {
   "cell_type": "code",
   "execution_count": 11,
   "id": "14b4b7ec-7f69-4f28-abd3-1b5704ed38df",
   "metadata": {},
   "outputs": [
    {
     "name": "stdout",
     "output_type": "stream",
     "text": [
      "Hello Boys\n"
     ]
    }
   ],
   "source": [
    "greeting = \"Hello\"\n",
    "name = \"Boys\"\n",
    "message = greeting + \" \" + name  \n",
    "print(message)"
   ]
  },
  {
   "cell_type": "markdown",
   "id": "41e98e2a-4073-4042-8e61-b05cb3cdab7b",
   "metadata": {},
   "source": [
    "Repetition: Strings can be repeated using the * operator."
   ]
  },
  {
   "cell_type": "code",
   "execution_count": 14,
   "id": "0b45e371-29bf-4b28-acff-16d6746e4df8",
   "metadata": {},
   "outputs": [
    {
     "name": "stdout",
     "output_type": "stream",
     "text": [
      "Hello Hello Hello \n"
     ]
    }
   ],
   "source": [
    "echo = \"Hello \" * 3 \n",
    "print(echo)"
   ]
  },
  {
   "cell_type": "code",
   "execution_count": 20,
   "id": "133a7043-7ac0-4789-9216-ea29eecffeec",
   "metadata": {},
   "outputs": [
    {
     "name": "stdout",
     "output_type": "stream",
     "text": [
      "P\n",
      "n\n"
     ]
    }
   ],
   "source": [
    "#Indexing\n",
    "word = \"Python\"\n",
    "print(word[0]) \n",
    "print(word[-1])"
   ]
  },
  {
   "cell_type": "code",
   "execution_count": 24,
   "id": "aa05d14b-6ea0-4480-855e-7a850f9205e9",
   "metadata": {},
   "outputs": [
    {
     "name": "stdout",
     "output_type": "stream",
     "text": [
      "World\n"
     ]
    }
   ],
   "source": [
    "#slicing\n",
    "text = \"Hello, World!\"\n",
    "print(text[7:12]) \n"
   ]
  },
  {
   "cell_type": "markdown",
   "id": "2e59eb3f-49c6-4530-b8d6-e57355576a39",
   "metadata": {},
   "source": [
    "#### String Formatting\n",
    "Python provides several ways to format strings:\n",
    "\n",
    "##### Old-style formatting: Uses % operators."
   ]
  },
  {
   "cell_type": "code",
   "execution_count": 29,
   "id": "bb2036ef-6b4b-4e97-a463-deb254ea799b",
   "metadata": {},
   "outputs": [
    {
     "name": "stdout",
     "output_type": "stream",
     "text": [
      " My Name is Sravan, Age: 22\n"
     ]
    }
   ],
   "source": [
    "name = \"Sravan\"\n",
    "age = 22\n",
    "formatted = \" My Name is %s, Age: %d\" % (name, age)\n",
    "print(formatted)"
   ]
  },
  {
   "cell_type": "markdown",
   "id": "8d4193a6-186c-4f71-bf5a-7327afa5f825",
   "metadata": {},
   "source": [
    "##### str.format() method: Allows for more control and readability.\n",
    "\n"
   ]
  },
  {
   "cell_type": "code",
   "execution_count": 34,
   "id": "3c87a9e5-2040-46ac-9685-53c8695d0aed",
   "metadata": {},
   "outputs": [
    {
     "name": "stdout",
     "output_type": "stream",
     "text": [
      "Hello, My Name is Sravan,and I'm 22,yeras old, I completed my B.Tech in Vijayawada and I relocated to Hyderabad. \n"
     ]
    }
   ],
   "source": [
    "name = \"Sravan\"\n",
    "age = 22\n",
    "place1= \"Vijayawada\"\n",
    "place2=\"Hyderabad\"\n",
    "qualification=\"B.Tech\"\n",
    "formatted = \"Hello, My Name is {},and I'm {},yeras old, I completed my {} in {} and I relocated to {}. \".format(name, age, qualification, place1, place2)\n",
    "print(formatted)"
   ]
  },
  {
   "cell_type": "markdown",
   "id": "6795ab77-5212-4672-b581-68fa7e7e82d8",
   "metadata": {},
   "source": [
    "##### f-strings (formatted string literals):\n",
    "Introduced in Python 3.6, offering a concise and readable way to format strings."
   ]
  },
  {
   "cell_type": "code",
   "execution_count": 41,
   "id": "df124ecb-5d80-4504-823c-ccaf84ca4990",
   "metadata": {},
   "outputs": [
    {
     "name": "stdout",
     "output_type": "stream",
     "text": [
      "Hello, My Name is Sravan,and I'm 22,yeras old, I completed my B.Tech in Vijayawada and I relocated to Hyderabad. \n"
     ]
    }
   ],
   "source": [
    "name = \"Sravan\"\n",
    "age = 22\n",
    "place1= \"Vijayawada\"\n",
    "place2=\"Hyderabad\"\n",
    "qualification=\"B.Tech\"\n",
    "formatted = f\"Hello, My Name is {name},and I'm {age},yeras old, I completed my {qualification} in {place1} and I relocated to {place2}. \"\n",
    "print(formatted)"
   ]
  },
  {
   "cell_type": "markdown",
   "id": "de08c2fc-3a5b-41da-a2e9-376e9d8f51cf",
   "metadata": {},
   "source": [
    "### String methods\n",
    "Python has a set of built - in methods that we can use on strings.\n",
    "\n",
    "All string methods return new values they do not change the original string."
   ]
  },
  {
   "cell_type": "code",
   "execution_count": 79,
   "id": "aff3620e-5f67-4758-bd3c-bafdc4302a2d",
   "metadata": {},
   "outputs": [
    {
     "name": "stdout",
     "output_type": "stream",
     "text": [
      "13\n",
      "SRAVAN\n",
      "sravan\n"
     ]
    }
   ],
   "source": [
    "#1.len()\n",
    "#returns th length of the string.\n",
    "\n",
    "my_string=\"Python is fun\"\n",
    "length=len(my_string)\n",
    "print(length)\n",
    "\n",
    "#2.lower/upper()\n",
    "#converts the string to lowercase / uppercase.\n",
    "\n",
    "str1=\"sravan\"\n",
    "str2=\"SRAVAN\"\n",
    "print(str1.upper())\n",
    "print(str2.lower())"
   ]
  },
  {
   "cell_type": "code",
   "execution_count": 81,
   "id": "89bb2b30-6078-4c90-8c28-53e00e819899",
   "metadata": {},
   "outputs": [
    {
     "name": "stdout",
     "output_type": "stream",
     "text": [
      "hello world\n",
      "having fun with friends\n",
      "having fun with family\n"
     ]
    }
   ],
   "source": [
    "#3.strip()\n",
    "#removes leading and trailing white spaces.\n",
    "\n",
    "name=\"    hello world     \"\n",
    "print(name.strip())\n",
    "\n",
    "#4.replace()\n",
    "#replaces a substring with another substring.\n",
    "\n",
    "str1=\"having fun with friends\"\n",
    "print(str1)\n",
    "str2=str1.replace(\"friends\",\"family\")\n",
    "print(str2)"
   ]
  },
  {
   "cell_type": "code",
   "execution_count": 77,
   "id": "8455497e-dfd7-4073-80d3-e1694fb8b928",
   "metadata": {},
   "outputs": [
    {
     "name": "stdout",
     "output_type": "stream",
     "text": [
      "['python', 'is', 'fun', 'and', 'python', 'is', 'good', 'to', 'learn.']\n",
      "python is fun and python is good to learn.\n"
     ]
    }
   ],
   "source": [
    "#5.split()\n",
    "#split the string into a list of substring.\n",
    "\n",
    "str1=\"python is fun and python is good to learn.\"\n",
    "split=str1.split()\n",
    "print(split)\n",
    "\n",
    "#6.join()\n",
    "#joins a list of string into a single string.\n",
    "\n",
    "str1=\"python is fun and python is good to learn.\"\n",
    "split=\"\".join(str1)\n",
    "print(split)"
   ]
  },
  {
   "cell_type": "code",
   "execution_count": 53,
   "id": "a808dcfc-4056-4161-b2dd-2ae2cd5ce1a2",
   "metadata": {},
   "outputs": [
    {
     "name": "stdout",
     "output_type": "stream",
     "text": [
      "My name is sravan\n",
      "my name is sravan\n",
      "       python       \n",
      "2\n"
     ]
    }
   ],
   "source": [
    "#7.capitalize()\n",
    "#Converts the frist character to upper case.\n",
    "\n",
    "#The first character is converted to upper case, and the rest are converted to lower case\n",
    "\n",
    "str=\"my name is sRavan\"\n",
    "result=str.capitalize()\n",
    "print(result)\n",
    "\n",
    "#8. casefold():\n",
    "#Converts string into lower case\n",
    "\n",
    "str=\"My Name Is Sravan\"\n",
    "result=str.casefold()\n",
    "print(result)\n"
   ]
  },
  {
   "cell_type": "code",
   "execution_count": 83,
   "id": "30b10cb6-4891-4d8f-8d85-0a47e00df0ce",
   "metadata": {},
   "outputs": [
    {
     "name": "stdout",
     "output_type": "stream",
     "text": [
      "       python       \n",
      "2\n"
     ]
    }
   ],
   "source": [
    "#9.center():\n",
    "#Returns a centered string.\n",
    "\n",
    "str=\"python\"\n",
    "result=str.center(20)\n",
    "print(result)\n",
    "      \n",
    "#10.count():\n",
    "#Returns the number of times a specified value occurs in a string.\n",
    "\n",
    "str=\"python is fun and it is easy\"\n",
    "result=str.count(\"is\")\n",
    "print(result)"
   ]
  },
  {
   "cell_type": "code",
   "execution_count": 73,
   "id": "2f113a13-b919-4d73-a21d-36f553c095ac",
   "metadata": {},
   "outputs": [
    {
     "name": "stdout",
     "output_type": "stream",
     "text": [
      "b'Python'\n",
      "False\n"
     ]
    }
   ],
   "source": [
    "#11.encode():\n",
    "#Returns an encoded version of the string.\n",
    "\n",
    "str=\"Python\"\n",
    "x=str.encode()\n",
    "print(x)\n",
    "\n",
    "#12.endswith():\n",
    "#Returns true if the string ends with the specified value.\n",
    "\n",
    "txt = \"Hello, welcome to my world.\"\n",
    "x = txt.endswith(\"my world.\", 5, 11)\n",
    "print(x)"
   ]
  },
  {
   "cell_type": "code",
   "execution_count": 85,
   "id": "e23af78e-731b-4c5a-8d27-37432d142550",
   "metadata": {},
   "outputs": [
    {
     "name": "stdout",
     "output_type": "stream",
     "text": [
      "S\tr\ta\tv\ta\tn\n",
      "Sravan\n",
      "S r a v a n\n",
      "S  r  a  v  a  n\n",
      "S   r   a   v   a   n\n"
     ]
    }
   ],
   "source": [
    "#13.expandtabs():\n",
    "#Sets the tab size of the string\n",
    "\n",
    "txt = \"S\\tr\\ta\\tv\\ta\\tn\"\n",
    "\n",
    "print(txt)\n",
    "print(txt.expandtabs(0))\n",
    "print(txt.expandtabs(1))\n",
    "print(txt.expandtabs(3))\n",
    "print(txt.expandtabs(4))"
   ]
  },
  {
   "cell_type": "code",
   "execution_count": 87,
   "id": "d6a4e3a0-ee78-4b9a-970f-fe1f0721749a",
   "metadata": {},
   "outputs": [
    {
     "name": "stdout",
     "output_type": "stream",
     "text": [
      "7\n",
      "For only 69.00 dollars!\n"
     ]
    }
   ],
   "source": [
    "#14.find():\n",
    "#Searches the string for a specified value and returns the position of where it was found.\n",
    "\n",
    "str=\"I like data science\"\n",
    "finding=str.find(\"d\")\n",
    "print(finding)\n",
    "\n",
    "#15.Format\n",
    "#Formats specified values in a string\n",
    "\n",
    "txt = \"For only {price:.2f} dollars!\"\n",
    "print(txt.format(price = 69))"
   ]
  },
  {
   "cell_type": "code",
   "execution_count": 89,
   "id": "ea6ace33-7eb3-4479-8a9b-7e1a03483218",
   "metadata": {},
   "outputs": [
    {
     "name": "stdout",
     "output_type": "stream",
     "text": [
      "7\n",
      "True\n"
     ]
    }
   ],
   "source": [
    "#16.index()\n",
    "#Searches the string for a specified value and returns the position of where it was found\n",
    "\n",
    "txt = \"Hello, welcome to my world.\"\n",
    "\n",
    "x = txt.index(\"welcome\")\n",
    "\n",
    "print(x)\n",
    "\n",
    "\n",
    "#17.isalnum()\n",
    "#Returns True if all characters in the string are alphanumeric\n",
    "\n",
    "str= \"goodbye\"\n",
    "x =str.isalnum()\n",
    "print(x)"
   ]
  },
  {
   "cell_type": "code",
   "execution_count": 91,
   "id": "3688a043-3ec4-4c39-828e-f6cfb2d1e03f",
   "metadata": {},
   "outputs": [
    {
     "name": "stdout",
     "output_type": "stream",
     "text": [
      "True\n",
      "True\n"
     ]
    }
   ],
   "source": [
    "#18.isalpha()\n",
    "#Returns True if all characters in the string are in the alphabet\n",
    "\n",
    "str= \"goodmorning\"\n",
    "x = str.isalpha()\n",
    "print(x)\n",
    "\n",
    "#19.isascii()\n",
    "#returns True if all characters in the string are ascii characters\n",
    "\n",
    "str = \"namaste_123\"\n",
    "x=str.isascii()\n",
    "print(x)"
   ]
  },
  {
   "cell_type": "code",
   "execution_count": 95,
   "id": "4b700c2c-5ff5-48f6-9250-28cdfaad89b7",
   "metadata": {},
   "outputs": [
    {
     "name": "stdout",
     "output_type": "stream",
     "text": [
      "True\n",
      "True\n"
     ]
    }
   ],
   "source": [
    "#20.isdecimal()\n",
    "#Returns True if all characters in the string are decimals\n",
    "\n",
    "txt = \"2536253\"\n",
    "x = txt.isdecimal()\n",
    "print(x)\n",
    "\n",
    "\n",
    "#21.isdigit()\n",
    "#Returns True if all characters in the string are digits\n",
    "\n",
    "txt = \"985230\"\n",
    "\n",
    "x = txt.isdigit()\n",
    "\n",
    "print(x)\n"
   ]
  },
  {
   "cell_type": "code",
   "execution_count": 101,
   "id": "de88c2a1-6aeb-487b-8982-0de1f6bc0011",
   "metadata": {},
   "outputs": [
    {
     "name": "stdout",
     "output_type": "stream",
     "text": [
      "True\n"
     ]
    }
   ],
   "source": [
    "#22.isidentifier()\n",
    "#Returns True if the string is an identifier\n",
    "\n",
    "txt = \"hey_ram\"\n",
    "\n",
    "x = txt.isidentifier()\n",
    "\n",
    "print(x)"
   ]
  },
  {
   "cell_type": "code",
   "execution_count": 103,
   "id": "dbae8f51-7aa8-4bd4-a469-34c3484ee2ad",
   "metadata": {},
   "outputs": [
    {
     "name": "stdout",
     "output_type": "stream",
     "text": [
      "True\n",
      "False\n"
     ]
    }
   ],
   "source": [
    "#23.islower()\n",
    "#Returns True if all characters in the string are lower case\n",
    "\n",
    "txt = \"hello world!\"\n",
    "\n",
    "x = txt.islower()\n",
    "print(x)\n",
    "a = \"Hello world!\"\n",
    "print(a.islower())"
   ]
  },
  {
   "cell_type": "code",
   "execution_count": 105,
   "id": "ddc24ba4-c083-4bc2-ab4b-229324112f1a",
   "metadata": {},
   "outputs": [
    {
     "name": "stdout",
     "output_type": "stream",
     "text": [
      "True\n",
      "False\n",
      "False\n"
     ]
    }
   ],
   "source": [
    "#24.isnumeric()\n",
    "#Returns True if all characters in the string are numeric\n",
    "\n",
    "txt = \"855\"\n",
    "x = txt.isnumeric()\n",
    "print(x)\n",
    "d = \"-15\"\n",
    "e = \"1.065\"\n",
    "print(d.isnumeric())\n",
    "print(e.isnumeric())\n"
   ]
  },
  {
   "cell_type": "code",
   "execution_count": 107,
   "id": "c2974634-29ea-4bf4-a572-fbc1f4625ecb",
   "metadata": {},
   "outputs": [
    {
     "name": "stdout",
     "output_type": "stream",
     "text": [
      "True\n"
     ]
    }
   ],
   "source": [
    "#25.isprintable()\n",
    "#Returns True if all characters in the string are printable\n",
    "\n",
    "txt = \"Hello! Who is is this?\"\n",
    "\n",
    "x = txt.isprintable()\n",
    "\n",
    "print(x)"
   ]
  },
  {
   "cell_type": "code",
   "execution_count": 109,
   "id": "d3f63927-0a5c-498d-850e-f00585f75029",
   "metadata": {},
   "outputs": [
    {
     "name": "stdout",
     "output_type": "stream",
     "text": [
      "False\n",
      "True\n"
     ]
    }
   ],
   "source": [
    "#26.isspace()\n",
    "#Returns True if all characters in the string are whitespaces\n",
    "\n",
    "txt = \"   s   \"\n",
    "\n",
    "x = txt.isspace()\n",
    "\n",
    "print(x)\n",
    "\n",
    "txt = \"   \"\n",
    "\n",
    "x = txt.isspace()\n",
    "\n",
    "print(x)"
   ]
  },
  {
   "cell_type": "code",
   "execution_count": 111,
   "id": "aa3dfeaa-9dc7-4c4f-ad3d-93d6db5359df",
   "metadata": {},
   "outputs": [
    {
     "name": "stdout",
     "output_type": "stream",
     "text": [
      "False\n",
      "True\n",
      "True\n",
      "True\n"
     ]
    }
   ],
   "source": [
    "#27.istitle()\n",
    "#Returns True if the string follows the rules of a title\n",
    "\n",
    "#The istitle() method returns True if all words in a text start with a upper case letter, AND the rest of the word are lower case letters, otherwise False.\n",
    "\n",
    "a = \"HELLO, AND WELCOME TO MY WORLD\"\n",
    "b = \"Hello\"\n",
    "c = \"22 Names\"\n",
    "d = \"This Is %'!?\"\n",
    "\n",
    "print(a.istitle())\n",
    "print(b.istitle())\n",
    "print(c.istitle())\n",
    "print(d.istitle())"
   ]
  },
  {
   "cell_type": "code",
   "execution_count": 115,
   "id": "fe5e5363-da3a-4c6c-8c51-a1c14a8ce6cd",
   "metadata": {},
   "outputs": [
    {
     "name": "stdout",
     "output_type": "stream",
     "text": [
      "False\n",
      "True\n",
      "False\n"
     ]
    }
   ],
   "source": [
    "#28.isupper()\n",
    "#Returns True if all characters in the string are upper case\n",
    "\n",
    "#The isupper() method returns True if all the characters are in upper case, otherwise False.\n",
    "\n",
    "a = \"Hello World!\"\n",
    "b = \"HELLO 123\"\n",
    "c = \"namesthe all of you\"\n",
    "\n",
    "print(a.isupper())\n",
    "print(b.isupper())\n",
    "print(c.isupper())"
   ]
  },
  {
   "cell_type": "code",
   "execution_count": 119,
   "id": "245f6d7e-7648-4275-ac3d-21d2e4707be8",
   "metadata": {},
   "outputs": [
    {
     "name": "stdout",
     "output_type": "stream",
     "text": [
      "Apple                   is my favorite fruit.\n"
     ]
    }
   ],
   "source": [
    "#29.ljust()\n",
    "#Returns a left justified version of the string\n",
    "\n",
    "txt = \"Apple\"\n",
    "\n",
    "x = txt.ljust(23)\n",
    "\n",
    "print(x, \"is my favorite fruit.\")"
   ]
  },
  {
   "cell_type": "code",
   "execution_count": 125,
   "id": "0e7b7f7e-62c0-47be-bb9a-f4fbee78865e",
   "metadata": {},
   "outputs": [
    {
     "name": "stdout",
     "output_type": "stream",
     "text": [
      "of all fruits Apple      is my favorite\n"
     ]
    }
   ],
   "source": [
    "#30.lstrip()\n",
    "#Returns a left trim version of the string\n",
    "\n",
    "#The lstrip() method removes any leading characters (space is the default leading character to remove)\n",
    "\n",
    "txt = \"     Apple     \"\n",
    "\n",
    "x = txt.lstrip()\n",
    "\n",
    "print(\"of all fruits\", x, \"is my favorite\")"
   ]
  },
  {
   "cell_type": "code",
   "execution_count": 131,
   "id": "a7743668-2675-4f32-a75c-984434fa799d",
   "metadata": {},
   "outputs": [
    {
     "name": "stdout",
     "output_type": "stream",
     "text": [
      "Hello Sam!\n"
     ]
    }
   ],
   "source": [
    "#31.maketrans()\n",
    "#Returns a translation table to be used in translations\n",
    "\n",
    "txt = \"Hello Ram!\"\n",
    "mytable = str.maketrans(\"R\", \"S\")\n",
    "print(txt.translate(mytable))"
   ]
  },
  {
   "cell_type": "code",
   "execution_count": 137,
   "id": "c9bf03d3-5a85-4c00-9216-d4e4ed5755ea",
   "metadata": {},
   "outputs": [
    {
     "name": "stdout",
     "output_type": "stream",
     "text": [
      "Welcome To My World\n"
     ]
    }
   ],
   "source": [
    "#32.title()\n",
    "#Converts the first character of each word to upper case\n",
    "\n",
    "#The title() method returns a string where the first character in every word is upper case. Like a header, or a title.\n",
    "\n",
    "#If the word contains a number or a symbol, the first letter after that will be converted to upper case.\n",
    "\n",
    "txt = \"Welcome to my world\"\n",
    "\n",
    "x = txt.title()\n",
    "\n",
    "print(x)"
   ]
  },
  {
   "cell_type": "code",
   "execution_count": 141,
   "id": "419d129e-c700-4341-a09a-a2b6ad700f66",
   "metadata": {},
   "outputs": [
    {
     "name": "stdout",
     "output_type": "stream",
     "text": [
      "00000070\n"
     ]
    }
   ],
   "source": [
    "#33.zfill()\n",
    "#Fills the string with a specified number of 0 values at the beginning\n",
    "\n",
    "#The zfill() method adds zeros (0) at the beginning of the string, until it reaches the specified length.\n",
    "\n",
    "#If the value of the len parameter is less than the length of the string, no filling is done.\n",
    "\n",
    "txt = \"70\"\n",
    "\n",
    "x = txt.zfill(8)\n",
    "\n",
    "print(x)"
   ]
  },
  {
   "cell_type": "code",
   "execution_count": 145,
   "id": "ec135807-b77c-4427-8bcb-bcc936f7a74c",
   "metadata": {},
   "outputs": [
    {
     "name": "stdout",
     "output_type": "stream",
     "text": [
      "('I could eat ', 'Apples', ' all day')\n"
     ]
    }
   ],
   "source": [
    "#34.partition()\n",
    "#Returns a tuple where the string is parted into three parts\n",
    "\n",
    "#The partition() method searches for a specified string, and splits the string into a tuple containing three elements.\n",
    "\n",
    "#The first element contains the part before the specified string.\n",
    "\n",
    "#The second element contains the specified string.\n",
    "\n",
    "#The third element contains the part after the string.\n",
    "\n",
    "txt = \"I could eat Apples all day\"\n",
    "\n",
    "x = txt.partition(\"Apples\")\n",
    "\n",
    "print(x)"
   ]
  },
  {
   "cell_type": "code",
   "execution_count": 149,
   "id": "686e7323-db36-4996-8a54-a0483802ec23",
   "metadata": {},
   "outputs": [
    {
     "name": "stdout",
     "output_type": "stream",
     "text": [
      "data is good\n"
     ]
    }
   ],
   "source": [
    "#35.casefold()\n",
    "#Implements caseless string matching.\n",
    "\n",
    "string=\"DaTA Is GOoD\"\n",
    "print(string.casefold())"
   ]
  }
 ],
 "metadata": {
  "kernelspec": {
   "display_name": "Python 3 (ipykernel)",
   "language": "python",
   "name": "python3"
  },
  "language_info": {
   "codemirror_mode": {
    "name": "ipython",
    "version": 3
   },
   "file_extension": ".py",
   "mimetype": "text/x-python",
   "name": "python",
   "nbconvert_exporter": "python",
   "pygments_lexer": "ipython3",
   "version": "3.12.4"
  }
 },
 "nbformat": 4,
 "nbformat_minor": 5
}
