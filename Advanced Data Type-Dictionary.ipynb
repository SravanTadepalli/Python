{
 "cells": [
  {
   "cell_type": "markdown",
   "id": "11b8d553-1f0a-4de9-995a-97c012ae948a",
   "metadata": {},
   "source": [
    "### Python Dictionaries"
   ]
  },
  {
   "cell_type": "markdown",
   "id": "cac0893e-2296-4afb-a6b2-612d337b2162",
   "metadata": {},
   "source": [
    "#### Definition and Structure:\n",
    "\n",
    "Dictionaries in Python are unordered collections of key-value pairs.\n",
    "\n",
    "Each key-value pair is separated by a colon (:), and pairs are separated by commas (,).\n",
    "\n",
    "Dictionaries are defined using curly braces {}.\n"
   ]
  },
  {
   "cell_type": "markdown",
   "id": "4fc0a1ed-7563-482b-898e-a4e0f5047a44",
   "metadata": {},
   "source": [
    "\n",
    "\n",
    "#### Keys and Values:\r\n",
    "Keys in a dictionary must be immutable types (e.g., strings, numbers, tuples) and are unique within a dictionary.\r\n",
    "\r\n",
    "Values can be of any data type and can be duplicated.\r\n",
    "\r\n",
    "Example: In the dictionary {\"name\": \"Alice\", \"age\": 30}, \"name\" and \"age\" are keys, while \"Alice\" and 30 are their corresponding va\n",
    "\n",
    "\n",
    "#### Creating a Dictionary\r\n",
    "To create a dictionary we have a collection of key-value pairs.\r\n",
    "\r\n",
    "It's defined by curly braces {} and each key-value pair is separated by a cn\n",
    "}lonlues.parated by a colon:"
   ]
  },
  {
   "cell_type": "markdown",
   "id": "febfe6a4-659e-44fc-9144-124494b503be",
   "metadata": {},
   "source": [
    "#### Syntax\n",
    "my_dict = {\"key1\": \"value1\", \"key2\": \"value2\"}"
   ]
  },
  {
   "cell_type": "markdown",
   "id": "dfd1096b-7db5-43cf-8846-ee242ee5d569",
   "metadata": {},
   "source": [
    "#### Example :"
   ]
  },
  {
   "cell_type": "code",
   "execution_count": 11,
   "id": "7b5d6e95-bdd6-4752-a020-67a7d476a944",
   "metadata": {},
   "outputs": [
    {
     "name": "stdout",
     "output_type": "stream",
     "text": [
      "{'name': 'Sravan', 'age': 22, 'grade': 'A'}\n",
      "{'name': 'Sravan', 'age': 22, 'grade': [91, 90, 95]}\n"
     ]
    }
   ],
   "source": [
    "# Dictionary with key-value pairs\n",
    "student = {'name' : 'Sravan', 'age' : 22,'grade' : 'A'}\n",
    "print(student)\n",
    "# Dictionary with mixed data types\n",
    "c\n",
    "print(mixed_dict)"
   ]
  },
  {
   "cell_type": "markdown",
   "id": "9ab5f346-9549-487b-9cf9-a232bee81aa9",
   "metadata": {},
   "source": [
    "#### ACCESSING VALUES :\n",
    "We can access the values in a dictionary using the keys"
   ]
  },
  {
   "cell_type": "code",
   "execution_count": 14,
   "id": "28de9c40-8445-43b4-be32-d01f4a3f7d05",
   "metadata": {},
   "outputs": [
    {
     "name": "stdout",
     "output_type": "stream",
     "text": [
      "{'name': 'Sravan', 'age': 22, 'grade': 'A'}\n",
      "Sravan\n",
      "[91, 90, 95]\n"
     ]
    }
   ],
   "source": [
    "student = {'name' : 'Sravan', 'age' : 22,'grade' : 'A'}\n",
    "print(student)\n",
    "mixed_dict={\"name\" :'Sravan', \"age\" :22,\"grade\" :[91,90,95]}\n",
    "print(student[\"name\"])\n",
    "print(mixed_dict[\"grade\"])"
   ]
  },
  {
   "cell_type": "markdown",
   "id": "f0a623d6-d985-4c47-bb0d-2f652718d19c",
   "metadata": {},
   "source": [
    "#### Modifying and Adding Values :\n",
    "Dictionaries are Mutable, so you can modify existing entries or add new ones."
   ]
  },
  {
   "cell_type": "code",
   "execution_count": 33,
   "id": "c548636b-8527-4f07-8485-6cfbe887f33e",
   "metadata": {},
   "outputs": [
    {
     "name": "stdout",
     "output_type": "stream",
     "text": [
      "{'name': 'Sravan', 'age': 20, 'grade': 'A', 'gender': 'male', 'qualification': 'B.Tech'}\n"
     ]
    }
   ],
   "source": [
    "#modify an entry\n",
    "student[\"age\"]=20\n",
    "\n",
    "#adding a new entry\n",
    "student[\"gender\"]='male'\n",
    "student[\"qualification\"]='B.Tech'\n",
    "print(student)"
   ]
  },
  {
   "cell_type": "markdown",
   "id": "e81627ac-6dad-460f-9fa0-b34ae4e67d13",
   "metadata": {},
   "source": [
    "#### Dictionary Methods:\n",
    "Python offers a variety of methods to manipulate dictionaries efficiently. Here's a breakdown of some common ones:\n",
    "\n",
    "#### 1.clear()\n",
    "Removes all the elements from the dictionary\n",
    "\n",
    "The clear() method removes all the elements from a dictionary."
   ]
  },
  {
   "cell_type": "code",
   "execution_count": 36,
   "id": "09310e41-7ec4-478d-9abd-dfe07074fd33",
   "metadata": {},
   "outputs": [
    {
     "name": "stdout",
     "output_type": "stream",
     "text": [
      "{}\n"
     ]
    }
   ],
   "source": [
    "bike = {\n",
    "  \"brand\": \"royal enfield\",\n",
    "  \"model\": \"hunter\",\n",
    "  \"year\": 2022\n",
    "}\n",
    "\n",
    "bike.clear()\n",
    "\n",
    "print(bike)"
   ]
  },
  {
   "cell_type": "markdown",
   "id": "0ae58e0c-264d-402f-8873-144b89da2134",
   "metadata": {},
   "source": [
    "#### 2.copy()\n",
    "Returns a copy of the dictionary\n",
    "\n",
    "The copy() method returns a copy of the specified dictionary."
   ]
  },
  {
   "cell_type": "code",
   "execution_count": 39,
   "id": "5373b6f8-5f86-429a-bfa7-59214172cfe4",
   "metadata": {},
   "outputs": [
    {
     "name": "stdout",
     "output_type": "stream",
     "text": [
      "{'brand': 'royal enfield', 'model': 'hunter', 'year': 2022}\n"
     ]
    }
   ],
   "source": [
    "bike = {\n",
    "  \"brand\": \"royal enfield\",\n",
    "  \"model\": \"hunter\",\n",
    "  \"year\": 2022\n",
    "}\n",
    "\n",
    "x=bike.copy()\n",
    "\n",
    "print(x)"
   ]
  },
  {
   "cell_type": "markdown",
   "id": "991866c6-f192-4ea1-95ef-9c7b2f863e5d",
   "metadata": {},
   "source": [
    "#### 3.fromkeys()\n",
    "The fromkeys() method returns a dictionary with the specified keys and the specified value."
   ]
  },
  {
   "cell_type": "code",
   "execution_count": 42,
   "id": "10735dc1-476b-451e-9a62-288cefe36bb8",
   "metadata": {},
   "outputs": [
    {
     "name": "stdout",
     "output_type": "stream",
     "text": [
      "{'key1': 'dulingo', 'key2': 'dulingo', 'key3': 'dulingo'}\n"
     ]
    }
   ],
   "source": [
    "x = ('key1', 'key2', 'key3')\n",
    "y = \"dulingo\"\n",
    "\n",
    "thisdict = dict.fromkeys(x, y)\n",
    "\n",
    "print(thisdict)"
   ]
  },
  {
   "cell_type": "markdown",
   "id": "74e30e42-e129-4dde-b292-0ab683c8a240",
   "metadata": {},
   "source": [
    "#### 4.get()\n",
    "Returns the value of the specified key"
   ]
  },
  {
   "cell_type": "code",
   "execution_count": 47,
   "id": "ae175671-2271-4a40-a8ff-b11d64224a66",
   "metadata": {},
   "outputs": [
    {
     "name": "stdout",
     "output_type": "stream",
     "text": [
      "hunter\n"
     ]
    }
   ],
   "source": [
    "bike = {\n",
    "  \"brand\": \"royal enfield\",\n",
    "  \"model\": \"hunter\",\n",
    "  \"year\": 2022\n",
    "}\n",
    "x=bike.get(\"model\")\n",
    "\n",
    "print(x)\n"
   ]
  },
  {
   "cell_type": "markdown",
   "id": "a4b4844d-a075-44a0-a10b-74fc571724dd",
   "metadata": {},
   "source": [
    "#### 5.items()\n",
    "Returns a list containing a tuple for each key value pair\n",
    "\n",
    "The items() method returns a view object. The view object contains the key-value pairs of the dictionary, as tuples in a list.\n",
    "\n",
    "The view object will reflect any changes done to the dictionary, see example below."
   ]
  },
  {
   "cell_type": "code",
   "execution_count": 50,
   "id": "bac6b574-30d0-408c-90a1-8bcbac409f0f",
   "metadata": {},
   "outputs": [
    {
     "name": "stdout",
     "output_type": "stream",
     "text": [
      "dict_items([('brand', 'royal enfield'), ('model', 'hunter'), ('year', 2022)])\n"
     ]
    }
   ],
   "source": [
    "bike = {\n",
    "  \"brand\": \"royal enfield\",\n",
    "  \"model\": \"hunter\",\n",
    "  \"year\": 2022\n",
    "}\n",
    "x=bike.items()\n",
    "\n",
    "print(x)"
   ]
  },
  {
   "cell_type": "markdown",
   "id": "53e8f9db-b34d-4c68-8e22-f3d00dea9bad",
   "metadata": {},
   "source": [
    "#### 6.keys()\n",
    "Returns a list containing the dictionary's keys\n",
    "\n",
    "The keys() method returns a view object. The view object contains the keys of the dictionary, as a list.\n",
    "\n",
    "The view object will reflect any changes done to the dictionary, see example below."
   ]
  },
  {
   "cell_type": "code",
   "execution_count": 53,
   "id": "bc06a686-b713-4205-b759-36041bdeddf7",
   "metadata": {},
   "outputs": [
    {
     "name": "stdout",
     "output_type": "stream",
     "text": [
      "dict_keys(['brand', 'model', 'year'])\n"
     ]
    }
   ],
   "source": [
    "bike = {\n",
    "  \"brand\": \"royal enfield\",\n",
    "  \"model\": \"hunter\",\n",
    "  \"year\": 2022\n",
    "}\n",
    "x=bike.keys()\n",
    "\n",
    "print(x)"
   ]
  },
  {
   "cell_type": "markdown",
   "id": "6258c838-565c-4e5a-bd3f-221a3719ca9a",
   "metadata": {},
   "source": [
    "#### 7.pop()\n",
    "Removes the element with the specified key\n",
    "\n",
    "The pop() method removes the specified item from the dictionary.\n",
    "\n",
    "The value of the removed item is the return value of the pop() method, see example below."
   ]
  },
  {
   "cell_type": "code",
   "execution_count": 62,
   "id": "9cb80bc7-60ed-40c7-8775-0054b548d47f",
   "metadata": {},
   "outputs": [
    {
     "name": "stdout",
     "output_type": "stream",
     "text": [
      "{'brand': 'royal enfield', 'model': 'hunter'}\n"
     ]
    }
   ],
   "source": [
    "bike = {\n",
    "  \"brand\": \"royal enfield\",\n",
    "  \"model\": \"hunter\",\n",
    "  \"year\": 2022\n",
    "}\n",
    "bike.pop('year')\n",
    "\n",
    "print(bike)"
   ]
  },
  {
   "cell_type": "markdown",
   "id": "a136f6ea-4db0-43de-85a7-a50d9219c9bc",
   "metadata": {},
   "source": [
    "#### 8.popitem()\n",
    "Removes the last inserted key-value pair\n",
    "\n",
    "The popitem() method removes the item that was last inserted into the dictionary. In versions before 3.7, the popitem() method removes a random item.\n",
    "\n",
    "The removed item is the return value of the popitem() method, as a tuple, see example below"
   ]
  },
  {
   "cell_type": "code",
   "execution_count": 103,
   "id": "54c284d5-48ed-4a44-930f-43db54dbf87a",
   "metadata": {},
   "outputs": [
    {
     "name": "stdout",
     "output_type": "stream",
     "text": [
      "{'brand': 'royal enfield', 'model': 'hunter'}\n"
     ]
    }
   ],
   "source": [
    "bike = {\n",
    "  \"brand\": \"royal enfield\",\n",
    "  \"model\": \"hunter\",\n",
    "  \"year\": 2022\n",
    "}\n",
    "bike.popitem()\n",
    "\n",
    "print(bike)"
   ]
  },
  {
   "cell_type": "markdown",
   "id": "92c36dc8-623c-4f6b-a430-7d95010b6ed1",
   "metadata": {},
   "source": [
    "#### 9.setdefault()\n",
    "Returns the value of the specified key. If the key does not exist: insert the key, with the specified value"
   ]
  },
  {
   "cell_type": "code",
   "execution_count": 80,
   "id": "947415d9-6551-47b3-b845-9b990a4f4234",
   "metadata": {},
   "outputs": [
    {
     "name": "stdout",
     "output_type": "stream",
     "text": [
      "{'brand': 'royal enfield', 'model': 'hunter', 'year': 2022, 'month': 'aug'}\n"
     ]
    }
   ],
   "source": [
    "bike = {\n",
    "  \"brand\": \"royal enfield\",\n",
    "  \"model\": \"hunter\",\n",
    "  \"year\": 2022\n",
    "}\n",
    "bike.setdefault(\"month\",'aug')\n",
    "print(bike)"
   ]
  },
  {
   "cell_type": "markdown",
   "id": "d1866c60-5d2b-422b-a72f-451af26e76e0",
   "metadata": {},
   "source": [
    "### 10.update()\n",
    "Updates the dictionary with the specified key-value pairs"
   ]
  },
  {
   "cell_type": "code",
   "execution_count": 83,
   "id": "3d56f036-133e-4be4-859a-6555fc14bfbc",
   "metadata": {},
   "outputs": [
    {
     "name": "stdout",
     "output_type": "stream",
     "text": [
      "{'brand': 'royal enfield', 'model': 'hunter', 'year': 2022, 'colour': 'blue'}\n"
     ]
    }
   ],
   "source": [
    "bike = {\n",
    "  \"brand\": \"royal enfield\",\n",
    "  \"model\": \"hunter\",\n",
    "  \"year\": 2022\n",
    "}\n",
    "bike.update({\"colour\" : \"blue\"})\n",
    "print(bike)"
   ]
  },
  {
   "cell_type": "markdown",
   "id": "09cf6872-9b74-4b2c-8835-adbc65676bb0",
   "metadata": {},
   "source": [
    "#### 11.values()\n",
    "Returns a list of all the values in the dictionary\n",
    "\n",
    "The values() method returns a view object. The view object contains the values of the dictionary, as a list."
   ]
  },
  {
   "cell_type": "code",
   "execution_count": 86,
   "id": "75a6b084-0522-4a80-a46e-9bc76c37fa11",
   "metadata": {},
   "outputs": [
    {
     "data": {
      "text/plain": [
       "dict_values(['royal enfield', 'hunter', 2022])"
      ]
     },
     "execution_count": 86,
     "metadata": {},
     "output_type": "execute_result"
    }
   ],
   "source": [
    "bike = {\n",
    "  \"brand\": \"royal enfield\",\n",
    "  \"model\": \"hunter\",\n",
    "  \"year\": 2022\n",
    "}\n",
    "bike.values()"
   ]
  },
  {
   "cell_type": "code",
   "execution_count": null,
   "id": "214d1032-7397-4cc1-bbe7-8ba36bdc101f",
   "metadata": {},
   "outputs": [],
   "source": []
  }
 ],
 "metadata": {
  "kernelspec": {
   "display_name": "Python 3 (ipykernel)",
   "language": "python",
   "name": "python3"
  },
  "language_info": {
   "codemirror_mode": {
    "name": "ipython",
    "version": 3
   },
   "file_extension": ".py",
   "mimetype": "text/x-python",
   "name": "python",
   "nbconvert_exporter": "python",
   "pygments_lexer": "ipython3",
   "version": "3.12.4"
  }
 },
 "nbformat": 4,
 "nbformat_minor": 5
}
