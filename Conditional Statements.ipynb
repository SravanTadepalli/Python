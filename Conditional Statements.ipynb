{
 "cells": [
  {
   "cell_type": "markdown",
   "id": "9839e2de-5bbf-400c-8608-363353d6a183",
   "metadata": {},
   "source": [
    "### Python Conditional Statements\n",
    "In Python, Conditional statements in Python are used to execute certain blocks of code based on whether a condition is true or false.\n",
    "\n",
    "The most common conditional statements are if, elif, and else keywords are used for creating conditional Structure.\n",
    "\n",
    "Conditional Statements are statements in Python that provide a choice for the control flow based on a condition.\n",
    "\n",
    "It means that the control flow of the Python program will be decided based on the outcome of the condition.\n",
    "\n",
    "#### 1.Python if - statement:\n",
    "An If statement executes a block of code if the specified condition is true.\n",
    "\n",
    "If the simple code of block is to be performed if the condition holds then the if statement is used.\n",
    "\n",
    "Here the condition mentioned holds then the code of the block runs otherwise not.\n",
    "\n",
    "#### SYNTAX :\n",
    "if condition: # body of if statement"
   ]
  },
  {
   "cell_type": "code",
   "execution_count": 2,
   "id": "d52893bf-adc3-4268-adc8-c6a55ae20499",
   "metadata": {},
   "outputs": [
    {
     "name": "stdin",
     "output_type": "stream",
     "text": [
      "enter your number: 52\n"
     ]
    },
    {
     "name": "stdout",
     "output_type": "stream",
     "text": [
      "given number is positive\n"
     ]
    }
   ],
   "source": [
    "n=int(input(\"enter your number:\"))\n",
    "if n > 0:\n",
    "    print(\"given number is positive\")"
   ]
  },
  {
   "cell_type": "code",
   "execution_count": 4,
   "id": "5ae7dc21-f55e-4589-be23-66d3eaf330ba",
   "metadata": {},
   "outputs": [
    {
     "name": "stdin",
     "output_type": "stream",
     "text": [
      " 52\n"
     ]
    },
    {
     "name": "stdout",
     "output_type": "stream",
     "text": [
      "You are  eligible for vote.\n"
     ]
    }
   ],
   "source": [
    "age = int(input())\n",
    "if age >= 18:\n",
    "    print(\"You are  eligible for vote.\")"
   ]
  },
  {
   "cell_type": "code",
   "execution_count": 8,
   "id": "e1323860-a4e6-4ad9-bba2-82ebd3000dd7",
   "metadata": {},
   "outputs": [
    {
     "name": "stdout",
     "output_type": "stream",
     "text": [
      "a is greater than b\n"
     ]
    }
   ],
   "source": [
    "a=63\n",
    "b=51\n",
    "if a>b:\n",
    "    print(\"a is greater than b\")"
   ]
  },
  {
   "cell_type": "markdown",
   "id": "640d57cf-1b52-4aa2-a36b-1b3a9387ee78",
   "metadata": {},
   "source": [
    "#### 2. Python else - statement:\n",
    "The else statement in Python is used to provide an alternative block of code to execute when the condition in an if statement is false.\n",
    "\n",
    "It allows you to create conditional logic that performs different actions based on whether a specific condition is met or not.\n",
    "\n",
    "The else keyword catches anything which isn't caught by the preceding conditions.\n",
    "\n",
    "#### SYNTAX :\n",
    "if condition: # body of if statement else: # body of else statement"
   ]
  },
  {
   "cell_type": "code",
   "execution_count": 11,
   "id": "af33190a-1899-4ad6-901e-ff264ea0b61c",
   "metadata": {},
   "outputs": [
    {
     "name": "stdin",
     "output_type": "stream",
     "text": [
      "Enter your number: 59\n"
     ]
    },
    {
     "name": "stdout",
     "output_type": "stream",
     "text": [
      "the number is positive number\n"
     ]
    }
   ],
   "source": [
    "n=int(input(\"Enter your number:\"))\n",
    "if n>=0:\n",
    "    print(\"the number is positive number\")\n",
    "else:\n",
    "    print(\"the number is negative number\")\n"
   ]
  },
  {
   "cell_type": "code",
   "execution_count": 13,
   "id": "906276f2-94d2-47eb-9745-54d4f49c951b",
   "metadata": {},
   "outputs": [
    {
     "name": "stdin",
     "output_type": "stream",
     "text": [
      "Enter a year: 2010\n"
     ]
    },
    {
     "name": "stdout",
     "output_type": "stream",
     "text": [
      "2010 is leap year\n"
     ]
    }
   ],
   "source": [
    "n=int(input(\"Enter a year:\"))\n",
    "if n&4==0:\n",
    "    print(n,\"is leap year\")\n",
    "else:\n",
    "    print(n,\"is not leap year\")"
   ]
  },
  {
   "cell_type": "code",
   "execution_count": 15,
   "id": "4f1986d3-cb1b-4236-b58e-dae937a6e73d",
   "metadata": {},
   "outputs": [
    {
     "name": "stdin",
     "output_type": "stream",
     "text": [
      "Enter your number: -856\n"
     ]
    },
    {
     "name": "stdout",
     "output_type": "stream",
     "text": [
      "the number is even\n"
     ]
    }
   ],
   "source": [
    "n=int(input(\"Enter your number:\"))\n",
    "if n%2==0:\n",
    "    print(\"the number is even\")\n",
    "else:\n",
    "    print(\"the number is odd\")"
   ]
  },
  {
   "cell_type": "markdown",
   "id": "43801609-0ecd-4b53-b4ba-388a9f1df938",
   "metadata": {},
   "source": [
    "#### 3. Python elif statement:\n",
    "The elif statement is a combination of \"else if.\"\n",
    "\n",
    "It provides a way to check multiple conditions in a sequential manner.\n",
    "\n",
    "If the initial if condition is false, the elif conditions are evaluated one by one until one of them is true.\n",
    "\n",
    "If none of the conditions are true, the else block (if present) is executed.\n",
    "\n",
    "#### SYNTAX :\n",
    "if condition1: # code block 1\n",
    "\n",
    "elif condition2: # code block 2\n",
    "\n",
    "else: # code block 3"
   ]
  },
  {
   "cell_type": "code",
   "execution_count": 18,
   "id": "35510b4e-6b9c-47b0-b6e3-f19059978380",
   "metadata": {},
   "outputs": [
    {
     "name": "stdin",
     "output_type": "stream",
     "text": [
      "Enter your number : 0\n"
     ]
    },
    {
     "name": "stdout",
     "output_type": "stream",
     "text": [
      "number is zero\n"
     ]
    }
   ],
   "source": [
    "x=int(input(\"Enter your number :\"))\n",
    "if x>0:\n",
    "    print(\"number is positive\")\n",
    "elif x<0:\n",
    "    print(\"number is negative\")\n",
    "else:\n",
    "    print(\"number is zero\")"
   ]
  },
  {
   "cell_type": "code",
   "execution_count": 20,
   "id": "7f9fc5cc-749c-4647-9a50-438066788a92",
   "metadata": {},
   "outputs": [
    {
     "name": "stdin",
     "output_type": "stream",
     "text": [
      "Enter the number of Slides: 9\n"
     ]
    },
    {
     "name": "stdout",
     "output_type": "stream",
     "text": [
      "Nanogone has 9 slide\n"
     ]
    }
   ],
   "source": [
    "x=int(input(\"Enter the number of Slides:\"))\n",
    "g={1:\"line has 1 slide\",2:\"circle has 2 slide\",3:\"triangle has 3 slide\",4:\"square has 4 slide\",5:\"pentagonehas 5 slide\",6:\"hexagone has 6 slide\",7:\"Septagone has 7 slide\",8:\"Octagone has 8 slide\",9:\"Nanogone has 9 slide\",10:\"Decagone has 10 slide\"}\n",
    "if x==1:\n",
    "    print(g[1])\n",
    "elif x==2:\n",
    "    print(g[2])\n",
    "elif x==3:\n",
    "    print(g[3])\n",
    "elif x==4:\n",
    "    print(g[4])\n",
    "elif x==5:\n",
    "    print(g[5])\n",
    "elif x==6:\n",
    "    print(g[6])\n",
    "elif x==7:\n",
    "    print(g[7])\n",
    "elif x==8:\n",
    "    print(g[8])\n",
    "elif x==9:\n",
    "    print(g[9])\n",
    "elif x==10:\n",
    "    print(g[10])"
   ]
  },
  {
   "cell_type": "code",
   "execution_count": 22,
   "id": "4920b345-5eb9-406e-94bb-ed9ab4b13aca",
   "metadata": {},
   "outputs": [
    {
     "name": "stdin",
     "output_type": "stream",
     "text": [
      "Enter first number:  8\n",
      "Enter second number:  5\n",
      "Enter third number:  9\n"
     ]
    },
    {
     "name": "stdout",
     "output_type": "stream",
     "text": [
      "The largest number is 9.0\n"
     ]
    }
   ],
   "source": [
    "#max of 3 numbers\n",
    "\n",
    "a=float(input(\"Enter first number: \"))\n",
    "b= float(input(\"Enter second number: \"))\n",
    "c= float(input(\"Enter third number: \"))\n",
    "\n",
    "if (a >= b) and (a >= c):\n",
    "   largest = a\n",
    "elif (b >= a) and (b >= c):\n",
    "   largest = b\n",
    "else:\n",
    "   largest = c\n",
    "\n",
    "print(\"The largest number is\", largest)"
   ]
  },
  {
   "cell_type": "markdown",
   "id": "dd5bd1f5-c77f-4b35-a2de-f67f8ebce097",
   "metadata": {},
   "source": [
    "#### 4. Python Nested If Statement\n",
    "A nested if is an if statement that is the target of another if statement. Nested if statements mean an if statement inside another if statement.\n",
    "\n",
    "Yes, Python allows us to nest if statements within if statements. i.e., we can place an if statement inside another if statement."
   ]
  },
  {
   "cell_type": "code",
   "execution_count": 25,
   "id": "720e9cc9-23dc-4ce5-a7bc-78df4534713f",
   "metadata": {},
   "outputs": [
    {
     "name": "stdin",
     "output_type": "stream",
     "text": [
      "enter number 69\n"
     ]
    },
    {
     "name": "stdout",
     "output_type": "stream",
     "text": [
      "Number is positive\n"
     ]
    }
   ],
   "source": [
    "number=int(input(\"enter number\"))\n",
    "if number >= 0:\n",
    "    if number == 0:\n",
    "      print('Number is 0')\n",
    "    else:\n",
    "        print('Number is positive')\n",
    "else:\n",
    "    print('Number is negative')"
   ]
  },
  {
   "cell_type": "code",
   "execution_count": 40,
   "id": "c046e314-e893-43ad-bf29-27ac68abb240",
   "metadata": {},
   "outputs": [
    {
     "name": "stdin",
     "output_type": "stream",
     "text": [
      " 99\n"
     ]
    },
    {
     "name": "stdout",
     "output_type": "stream",
     "text": [
      "Excellent\n"
     ]
    }
   ],
   "source": [
    "score=int(input())\n",
    "if score >= 0 and score <= 100:\n",
    "        if score >= 90:\n",
    "            print(\"Excellent\")\n",
    "        elif score >= 70:\n",
    "           print (\"Good\")\n",
    "        elif score >= 50:\n",
    "            print (\"Average\")\n",
    "        else:\n",
    "            print(\"Poor\")\n",
    "else:\n",
    "    print(\"Invalid score\")"
   ]
  },
  {
   "cell_type": "code",
   "execution_count": 54,
   "id": "8f0ed0a5-e6eb-4ce3-ae10-8dbbdd8d1bd9",
   "metadata": {},
   "outputs": [
    {
     "name": "stdin",
     "output_type": "stream",
     "text": [
      "Enter the hour of the day (0-23):  19\n"
     ]
    },
    {
     "name": "stdout",
     "output_type": "stream",
     "text": [
      "Evening\n"
     ]
    }
   ],
   "source": [
    "hour_input = input(\"Enter the hour of the day (0-23): \")\n",
    "\n",
    "# Check if the input is a valid integer\n",
    "if hour_input.isdigit():\n",
    "    hour = int(hour_input)\n",
    "    if 0 <= hour < 24:\n",
    "        if 5 <= hour < 12:\n",
    "            print(\"Morning\")\n",
    "        elif 12 <= hour < 17:\n",
    "            print(\"Afternoon\")\n",
    "        elif 17 <= hour < 21:\n",
    "            print(\"Evening\")\n",
    "        else:\n",
    "            print(\"Night\")\n",
    "    else:\n",
    "        print(\"Hour must be between 0 and 23.\")\n",
    "else:\n",
    "    print(\"Invalid input. Please enter a number.\")"
   ]
  },
  {
   "cell_type": "code",
   "execution_count": null,
   "id": "266b6dd5-e629-4de4-ada6-df25cc279728",
   "metadata": {},
   "outputs": [],
   "source": []
  }
 ],
 "metadata": {
  "kernelspec": {
   "display_name": "Python 3 (ipykernel)",
   "language": "python",
   "name": "python3"
  },
  "language_info": {
   "codemirror_mode": {
    "name": "ipython",
    "version": 3
   },
   "file_extension": ".py",
   "mimetype": "text/x-python",
   "name": "python",
   "nbconvert_exporter": "python",
   "pygments_lexer": "ipython3",
   "version": "3.12.4"
  }
 },
 "nbformat": 4,
 "nbformat_minor": 5
}
