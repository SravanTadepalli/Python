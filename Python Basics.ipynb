{
 "cells": [
  {
   "cell_type": "code",
   "execution_count": 1,
   "id": "c91d0b0c-b7eb-44e7-8be2-16460f6c2fea",
   "metadata": {},
   "outputs": [
    {
     "name": "stdout",
     "output_type": "stream",
     "text": [
      "hello world\n"
     ]
    }
   ],
   "source": [
    "print(\"hello world\")"
   ]
  },
  {
   "cell_type": "code",
   "execution_count": null,
   "id": "aef1d1e7-90f2-4f1d-bfee-2e310319d293",
   "metadata": {},
   "outputs": [],
   "source": [
    "import sys\n",
    "print(sys.version)"
   ]
  },
  {
   "cell_type": "markdown",
   "id": "5778e5c4-8c41-4d4b-b069-4945d5e6254f",
   "metadata": {},
   "source": [
    "### Comment"
   ]
  },
  {
   "cell_type": "markdown",
   "id": "ef51e154-0f2f-4bb3-8eaf-c38722420957",
   "metadata": {},
   "source": [
    "Comments are very important in your programs. They are used to tell you what something does\n",
    "in English, and they also are used to disable parts of your program if you need to remove them temporarily. \n"
   ]
  },
  {
   "cell_type": "code",
   "execution_count": 30,
   "id": "c780e9ec-ea93-4d61-8069-226f9fd41bbc",
   "metadata": {},
   "outputs": [
    {
     "name": "stdout",
     "output_type": "stream",
     "text": [
      "hello\n"
     ]
    }
   ],
   "source": [
    "# A comment, this is so you can read your program later.\n",
    "# Anything after the # is ignored by python\n",
    "print(\"hello\") #this will not print"
   ]
  },
  {
   "cell_type": "markdown",
   "id": "e2305d26-d5b8-441e-863a-bd1f7d8fd297",
   "metadata": {},
   "source": [
    "### Indentation in Python"
   ]
  },
  {
   "cell_type": "markdown",
   "id": "53c887d8-7ce6-4080-8e4b-3ca12ed809fa",
   "metadata": {},
   "source": [
    "Indentation is a very important concept of Python because without properly indenting the Python code, you will end up seeing IndentationError and the code will not get compiled."
   ]
  },
  {
   "cell_type": "markdown",
   "id": "6a565ef2-a59b-4ac1-bb7f-825e23d979cb",
   "metadata": {},
   "source": [
    "Python indentation refers to adding white space before a statement to a particular block of code. In other words, all the statements with the same space to the left, belong to the same code block."
   ]
  },
  {
   "cell_type": "code",
   "execution_count": 36,
   "id": "cf5d0f17-e2eb-4753-9742-84407bc03102",
   "metadata": {},
   "outputs": [
    {
     "name": "stdout",
     "output_type": "stream",
     "text": [
      "Logging on to geeksforgeeks...\n",
      "All set !\n"
     ]
    }
   ],
   "source": [
    "# Python program showing\n",
    "# indentation\n",
    "\n",
    "site = 'gfg'\n",
    "\n",
    "if site == 'gfg':\n",
    "    print('Logging on to geeksforgeeks...')\n",
    "else:\n",
    "    print('retype the URL.')\n",
    "print('All set !')\n"
   ]
  },
  {
   "cell_type": "markdown",
   "id": "17c2b86f-d54c-41a6-b71e-5a2972a191c3",
   "metadata": {},
   "source": [
    "### Python Keywords"
   ]
  },
  {
   "cell_type": "markdown",
   "id": "1499cb2e-aae7-41a8-8a86-703721cc963c",
   "metadata": {},
   "source": [
    "Every language contains words and a set of rules that would make a sentence meaningful. Similarly, in Python programming language, there are a set of predefined words, called Keywords which along with Identifiers will form meaningful sentences when used together. Python keywords cannot be used as the names of variables, functions, and classes."
   ]
  },
  {
   "cell_type": "markdown",
   "id": "0b7c9dab-4e69-4655-baab-c59bc8e79a22",
   "metadata": {},
   "source": [
    "All the python keywords contain Lowercase latters"
   ]
  },
  {
   "cell_type": "markdown",
   "id": "69533702-f08a-44fc-8b88-fd5b5cc348b3",
   "metadata": {},
   "source": [
    "They cannot be used as variable names, function names, or any other identifiers. "
   ]
  },
  {
   "cell_type": "markdown",
   "id": "d03980ef-cc73-4e3b-aa11-df14fb0b3eec",
   "metadata": {},
   "source": [
    "### Data Type Keywords:\n",
    "True, False: Boolean values representing true and false.\n",
    "None: Represents the absence of a value.\n",
    "Logical Operator Keywords: and: Logical AND operator, or: Logical OR operator, and not: Logical NOT operator."
   ]
  },
  {
   "cell_type": "code",
   "execution_count": 45,
   "id": "04c9a911-6235-4741-885d-5adb2e42e67e",
   "metadata": {},
   "outputs": [
    {
     "name": "stdout",
     "output_type": "stream",
     "text": [
      "['False', 'None', 'True', 'and', 'as', 'assert', 'async', 'await', 'break', 'class', 'continue', 'def', 'del', 'elif', 'else', 'except', 'finally', 'for', 'from', 'global', 'if', 'import', 'in', 'is', 'lambda', 'nonlocal', 'not', 'or', 'pass', 'raise', 'return', 'try', 'while', 'with', 'yield']\n"
     ]
    },
    {
     "data": {
      "text/plain": [
       "35"
      ]
     },
     "execution_count": 45,
     "metadata": {},
     "output_type": "execute_result"
    }
   ],
   "source": [
    "import keyword\n",
    "python_keywords = keyword.kwlist\n",
    "print(python_keywords)\n",
    "len(python_keywords)"
   ]
  },
  {
   "cell_type": "code",
   "execution_count": null,
   "id": "c16f460e-efb5-4abf-9189-d6c08fa0f45f",
   "metadata": {},
   "outputs": [],
   "source": []
  }
 ],
 "metadata": {
  "kernelspec": {
   "display_name": "Python 3 (ipykernel)",
   "language": "python",
   "name": "python3"
  },
  "language_info": {
   "codemirror_mode": {
    "name": "ipython",
    "version": 3
   },
   "file_extension": ".py",
   "mimetype": "text/x-python",
   "name": "python",
   "nbconvert_exporter": "python",
   "pygments_lexer": "ipython3",
   "version": "3.12.4"
  }
 },
 "nbformat": 4,
 "nbformat_minor": 5
}
