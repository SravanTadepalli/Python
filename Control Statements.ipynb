{
 "cells": [
  {
   "cell_type": "markdown",
   "id": "e7809e3c-01af-4217-8659-700acd3c4079",
   "metadata": {},
   "source": [
    "#### Control Statements\n",
    "In python, pass, break and continue are control flow statements used within loops.\n",
    "\n",
    "They provide way's to control the execution of a loop (or) to handel certain situation's.\n",
    "\n",
    "#### 1.pass:\n",
    "The pass statement in python is a placeholder that dose nothing.\n",
    "\n",
    "It is often used when a statement is required but we don't want to execute any code.\n",
    "\n",
    "The pass statement is a no - operation statement."
   ]
  },
  {
   "cell_type": "code",
   "execution_count": 3,
   "id": "38c6879d-e55f-4733-b05d-880511f2451a",
   "metadata": {},
   "outputs": [
    {
     "name": "stdout",
     "output_type": "stream",
     "text": [
      "0\n",
      "2\n",
      "3\n"
     ]
    }
   ],
   "source": [
    "for i in range(5):\n",
    "    if i == 1 or i ==4:\n",
    "        pass\n",
    "    else:\n",
    "        print(i)"
   ]
  },
  {
   "cell_type": "markdown",
   "id": "4e3b7c97-442e-4f5b-b7d1-9bad9470ac16",
   "metadata": {},
   "source": [
    "#### 2.Break Statement\n",
    "The continue statement is used within a loop to skip the remaining code in the current\n",
    "\n",
    "iteration and proceed with the next iteration of the loop.\n",
    "\n",
    "It effectively \"jumps\" to the next iteration of the loop.\n",
    "\n",
    "The break statement is used to exit a loop prematurely.\n",
    "\n",
    "When a break statement is encountered, the loop terminates immediately, and the control is transferred to the statement immediately following the loop."
   ]
  },
  {
   "cell_type": "code",
   "execution_count": 8,
   "id": "0343eae6-3a64-4d44-bfae-5d0a5dcab57b",
   "metadata": {},
   "outputs": [
    {
     "name": "stdout",
     "output_type": "stream",
     "text": [
      "0\n",
      "1\n",
      "2\n",
      "3\n"
     ]
    }
   ],
   "source": [
    "for i in range(10): \n",
    "    if i == 4:\n",
    "        break  \n",
    "    print(i)"
   ]
  },
  {
   "cell_type": "markdown",
   "id": "0aa60f22-d369-47aa-8128-07f897d99503",
   "metadata": {},
   "source": [
    "#### 3. continue Statement\n",
    "The continue statement is used to skip the rest of the code inside a loop for the current iteration and move to the next iteration.\n",
    "\n",
    "It returns the control to the beginning of the loop."
   ]
  },
  {
   "cell_type": "code",
   "execution_count": 11,
   "id": "b71e85e7-56d0-4ffe-bba5-1fd267c12cd0",
   "metadata": {},
   "outputs": [
    {
     "name": "stdout",
     "output_type": "stream",
     "text": [
      "0\n",
      "1\n",
      "2\n",
      "3\n",
      "5\n",
      "6\n",
      "7\n"
     ]
    }
   ],
   "source": [
    "for i in range(8): \n",
    "    if i == 4:\n",
    "        continue  \n",
    "    print(i)"
   ]
  },
  {
   "cell_type": "code",
   "execution_count": null,
   "id": "65353aa8-cb47-46c8-bb65-c8bd101c125d",
   "metadata": {},
   "outputs": [],
   "source": []
  }
 ],
 "metadata": {
  "kernelspec": {
   "display_name": "Python 3 (ipykernel)",
   "language": "python",
   "name": "python3"
  },
  "language_info": {
   "codemirror_mode": {
    "name": "ipython",
    "version": 3
   },
   "file_extension": ".py",
   "mimetype": "text/x-python",
   "name": "python",
   "nbconvert_exporter": "python",
   "pygments_lexer": "ipython3",
   "version": "3.12.4"
  }
 },
 "nbformat": 4,
 "nbformat_minor": 5
}
