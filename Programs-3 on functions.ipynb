{
 "cells": [
  {
   "cell_type": "code",
   "execution_count": 35,
   "id": "5d90e52e-2f32-4ec4-9626-269127c4b229",
   "metadata": {},
   "outputs": [
    {
     "name": "stdin",
     "output_type": "stream",
     "text": [
      "Enter a Number:  69\n"
     ]
    },
    {
     "name": "stdout",
     "output_type": "stream",
     "text": [
      "69 is Not a Prime Number\n"
     ]
    }
   ],
   "source": [
    "def prime(a):\n",
    "    c=0\n",
    "    for i in range(2,a):\n",
    "        if(a%i==0):\n",
    "            c+=1\n",
    "            break\n",
    "    if(c>=1):\n",
    "        print(a,\"is Not a Prime Number\")\n",
    "    else:\n",
    "        print(a,\"is a Prime Number\")\n",
    "a=int(input(\"Enter a Number: \"))\n",
    "prime(a)\n",
    "        "
   ]
  },
  {
   "cell_type": "code",
   "execution_count": 37,
   "id": "524fe880-24ae-4de0-abac-3adb3880eb72",
   "metadata": {},
   "outputs": [
    {
     "name": "stdin",
     "output_type": "stream",
     "text": [
      "Enter the Input:  858\n"
     ]
    },
    {
     "name": "stdout",
     "output_type": "stream",
     "text": [
      "858 is a Palindrome Number\n"
     ]
    }
   ],
   "source": [
    "def palindrome(a):\n",
    "    c=a[::-1]\n",
    "    if(c==a):\n",
    "        print(a,\"is a Palindrome Number\")\n",
    "    else:\n",
    "        print(a,\"is not a Palindrome Number\")\n",
    "a=input(\"Enter the Input: \")\n",
    "palindrome(a)\n"
   ]
  },
  {
   "cell_type": "code",
   "execution_count": 53,
   "id": "2639ed76-fb45-49c2-9faa-34772786546e",
   "metadata": {},
   "outputs": [
    {
     "name": "stdin",
     "output_type": "stream",
     "text": [
      " 7\n"
     ]
    },
    {
     "name": "stdout",
     "output_type": "stream",
     "text": [
      "fibinocci series:\n",
      "0 1 1 2 3 5 8 "
     ]
    }
   ],
   "source": [
    "def fibinocci(n):\n",
    "    n1,n2=0,1\n",
    "    sum=0\n",
    "    if n<0:\n",
    "        print(\"Please enter positive number.\")\n",
    "    else:\n",
    "        print(\"fibinocci series:\")\n",
    "        for i in range(0,n):\n",
    "            print(sum,end=' ')\n",
    "            n1=n2\n",
    "            n2=sum\n",
    "            sum=n1+n2\n",
    "n=int(input())\n",
    "fibinocci(n)"
   ]
  },
  {
   "cell_type": "code",
   "execution_count": 55,
   "id": "f5e052df-b03a-43a6-a0fe-adfa0c4faff2",
   "metadata": {},
   "outputs": [
    {
     "name": "stdin",
     "output_type": "stream",
     "text": [
      "Enter a Value:  7\n"
     ]
    },
    {
     "name": "stdout",
     "output_type": "stream",
     "text": [
      "Fibinocci Series :  [0, 1, 1, 2, 3, 5, 8]\n"
     ]
    }
   ],
   "source": [
    "def fibi(a):\n",
    "    l=[0,1]\n",
    "    b=0\n",
    "    c=1\n",
    "    while(len(l)<a):\n",
    "        d=b+c\n",
    "        l.append(d)\n",
    "        b=c\n",
    "        c=d\n",
    "    print(\"Fibinocci Series : \",end=\" \")\n",
    "    print(l)\n",
    "a=int(input(\"Enter a Value: \"))\n",
    "fibi(a)"
   ]
  },
  {
   "cell_type": "code",
   "execution_count": 29,
   "id": "c5569ee6-c4d7-4985-b2a6-1a25758d294a",
   "metadata": {},
   "outputs": [
    {
     "name": "stdin",
     "output_type": "stream",
     "text": [
      " madam\n"
     ]
    },
    {
     "name": "stdout",
     "output_type": "stream",
     "text": [
      "First non-repeating character is : d\n"
     ]
    }
   ],
   "source": [
    "#python code to return first non-repeating element.\n",
    "def non_repeating(str):\n",
    "    flag = 0\n",
    "    for i in str:\n",
    "        if str.count(i) == 1:\n",
    "            print(\"First non-repeating character is :\", i)\n",
    "            flag = 1\n",
    "            break\n",
    "    if flag == 0:\n",
    "        print(\"No non-repeating character\")\n",
    "str=input()\n",
    "non_repeating(str)\n",
    "\n"
   ]
  },
  {
   "cell_type": "code",
   "execution_count": 51,
   "id": "7c70cbd6-e36d-42d6-a3d6-74a576d8cf9d",
   "metadata": {},
   "outputs": [
    {
     "name": "stdin",
     "output_type": "stream",
     "text": [
      "Enter the string: (((((hi))))))!!\n"
     ]
    },
    {
     "name": "stdout",
     "output_type": "stream",
     "text": [
      "opening parentheses count: 5\n",
      "closing parentheses 6\n",
      "Parentheses are not balanced\n"
     ]
    }
   ],
   "source": [
    "#parenthesis count in a string.\n",
    "def parentheses_count(u):\n",
    "    open=u.count('(')\n",
    "    close=u.count(')')\n",
    "    print(\"opening parentheses count:\",open)\n",
    "    print(\"closing parentheses\",close)\n",
    "    if open==close:\n",
    "        print(\"Parentheses are balanced\")\n",
    "    else:\n",
    "        print(\"Parentheses are not balanced\")\n",
    "u=input(\"Enter the string:\")\n",
    "parentheses_count(u)"
   ]
  },
  {
   "cell_type": "code",
   "execution_count": 31,
   "id": "01cd62c2-9ddd-4a75-bd4b-7b9c02a8f6e9",
   "metadata": {},
   "outputs": [
    {
     "name": "stdin",
     "output_type": "stream",
     "text": [
      "Enter a String:  hello\n"
     ]
    },
    {
     "name": "stdout",
     "output_type": "stream",
     "text": [
      "helo\n"
     ]
    }
   ],
   "source": [
    "#python code to remove repeating element in a string\n",
    "def remove(a):\n",
    "    l=[]\n",
    "    for i in range(len(a)):\n",
    "        if a[i] not in l:\n",
    "            l.append(a[i])\n",
    "    print(''.join(l))\n",
    "a=input(\"Enter a String: \")\n",
    "remove(a)"
   ]
  },
  {
   "cell_type": "code",
   "execution_count": null,
   "id": "cd98f629-e676-4fd6-beb4-1f36b59fa24f",
   "metadata": {},
   "outputs": [],
   "source": []
  }
 ],
 "metadata": {
  "kernelspec": {
   "display_name": "Python 3 (ipykernel)",
   "language": "python",
   "name": "python3"
  },
  "language_info": {
   "codemirror_mode": {
    "name": "ipython",
    "version": 3
   },
   "file_extension": ".py",
   "mimetype": "text/x-python",
   "name": "python",
   "nbconvert_exporter": "python",
   "pygments_lexer": "ipython3",
   "version": "3.12.4"
  }
 },
 "nbformat": 4,
 "nbformat_minor": 5
}
